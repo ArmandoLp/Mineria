{
  "nbformat": 4,
  "nbformat_minor": 0,
  "metadata": {
    "kernelspec": {
      "display_name": "Python 3",
      "language": "python",
      "name": "python3"
    },
    "language_info": {
      "codemirror_mode": {
        "name": "ipython",
        "version": 3
      },
      "file_extension": ".py",
      "mimetype": "text/x-python",
      "name": "python",
      "nbconvert_exporter": "python",
      "pygments_lexer": "ipython3",
      "version": "3.6.9"
    },
    "colab": {
      "name": "LDA-ProyectoFinal.ipynb",
      "provenance": [],
      "collapsed_sections": [],
      "include_colab_link": true
    }
  },
  "cells": [
    {
      "cell_type": "markdown",
      "metadata": {
        "id": "view-in-github",
        "colab_type": "text"
      },
      "source": [
        "<a href=\"https://colab.research.google.com/github/ArmandoLp/Mineria/blob/main/LDA_ProyectoFinal.ipynb\" target=\"_parent\"><img src=\"https://colab.research.google.com/assets/colab-badge.svg\" alt=\"Open In Colab\"/></a>"
      ]
    },
    {
      "cell_type": "code",
      "metadata": {
        "id": "ZvyzjBFHRO7-"
      },
      "source": [
        "!ls | grep total"
      ],
      "execution_count": null,
      "outputs": []
    },
    {
      "cell_type": "code",
      "metadata": {
        "id": "1WintoEsR4dg",
        "colab": {
          "base_uri": "https://localhost:8080/",
          "height": 34
        },
        "outputId": "8e603d9a-4103-4168-e553-4605350968cc"
      },
      "source": [
        "!ls"
      ],
      "execution_count": null,
      "outputs": [
        {
          "output_type": "stream",
          "text": [
            "sample_data\n"
          ],
          "name": "stdout"
        }
      ]
    },
    {
      "cell_type": "code",
      "metadata": {
        "id": "zQ8eXReVU5F-",
        "colab": {
          "base_uri": "https://localhost:8080/",
          "height": 1000
        },
        "outputId": "5875cf59-451a-4388-a48e-7ad2696174aa"
      },
      "source": [
        "!python3 -m spacy download es\n",
        "!pip3 install stop_words\n",
        "!pip3 install stopwords\n",
        "!pip install pyLDAvis"
      ],
      "execution_count": null,
      "outputs": [
        {
          "output_type": "stream",
          "text": [
            "Collecting es_core_news_sm==2.2.5\n",
            "\u001b[?25l  Downloading https://github.com/explosion/spacy-models/releases/download/es_core_news_sm-2.2.5/es_core_news_sm-2.2.5.tar.gz (16.2MB)\n",
            "\u001b[K     |████████████████████████████████| 16.2MB 602kB/s \n",
            "\u001b[?25hRequirement already satisfied: spacy>=2.2.2 in /usr/local/lib/python3.6/dist-packages (from es_core_news_sm==2.2.5) (2.2.4)\n",
            "Requirement already satisfied: thinc==7.4.0 in /usr/local/lib/python3.6/dist-packages (from spacy>=2.2.2->es_core_news_sm==2.2.5) (7.4.0)\n",
            "Requirement already satisfied: murmurhash<1.1.0,>=0.28.0 in /usr/local/lib/python3.6/dist-packages (from spacy>=2.2.2->es_core_news_sm==2.2.5) (1.0.2)\n",
            "Requirement already satisfied: blis<0.5.0,>=0.4.0 in /usr/local/lib/python3.6/dist-packages (from spacy>=2.2.2->es_core_news_sm==2.2.5) (0.4.1)\n",
            "Requirement already satisfied: plac<1.2.0,>=0.9.6 in /usr/local/lib/python3.6/dist-packages (from spacy>=2.2.2->es_core_news_sm==2.2.5) (1.1.3)\n",
            "Requirement already satisfied: preshed<3.1.0,>=3.0.2 in /usr/local/lib/python3.6/dist-packages (from spacy>=2.2.2->es_core_news_sm==2.2.5) (3.0.2)\n",
            "Requirement already satisfied: requests<3.0.0,>=2.13.0 in /usr/local/lib/python3.6/dist-packages (from spacy>=2.2.2->es_core_news_sm==2.2.5) (2.23.0)\n",
            "Requirement already satisfied: setuptools in /usr/local/lib/python3.6/dist-packages (from spacy>=2.2.2->es_core_news_sm==2.2.5) (47.3.1)\n",
            "Requirement already satisfied: srsly<1.1.0,>=1.0.2 in /usr/local/lib/python3.6/dist-packages (from spacy>=2.2.2->es_core_news_sm==2.2.5) (1.0.2)\n",
            "Requirement already satisfied: cymem<2.1.0,>=2.0.2 in /usr/local/lib/python3.6/dist-packages (from spacy>=2.2.2->es_core_news_sm==2.2.5) (2.0.3)\n",
            "Requirement already satisfied: numpy>=1.15.0 in /usr/local/lib/python3.6/dist-packages (from spacy>=2.2.2->es_core_news_sm==2.2.5) (1.18.5)\n",
            "Requirement already satisfied: wasabi<1.1.0,>=0.4.0 in /usr/local/lib/python3.6/dist-packages (from spacy>=2.2.2->es_core_news_sm==2.2.5) (0.7.0)\n",
            "Requirement already satisfied: tqdm<5.0.0,>=4.38.0 in /usr/local/lib/python3.6/dist-packages (from spacy>=2.2.2->es_core_news_sm==2.2.5) (4.41.1)\n",
            "Requirement already satisfied: catalogue<1.1.0,>=0.0.7 in /usr/local/lib/python3.6/dist-packages (from spacy>=2.2.2->es_core_news_sm==2.2.5) (1.0.0)\n",
            "Requirement already satisfied: certifi>=2017.4.17 in /usr/local/lib/python3.6/dist-packages (from requests<3.0.0,>=2.13.0->spacy>=2.2.2->es_core_news_sm==2.2.5) (2020.6.20)\n",
            "Requirement already satisfied: idna<3,>=2.5 in /usr/local/lib/python3.6/dist-packages (from requests<3.0.0,>=2.13.0->spacy>=2.2.2->es_core_news_sm==2.2.5) (2.9)\n",
            "Requirement already satisfied: chardet<4,>=3.0.2 in /usr/local/lib/python3.6/dist-packages (from requests<3.0.0,>=2.13.0->spacy>=2.2.2->es_core_news_sm==2.2.5) (3.0.4)\n",
            "Requirement already satisfied: urllib3!=1.25.0,!=1.25.1,<1.26,>=1.21.1 in /usr/local/lib/python3.6/dist-packages (from requests<3.0.0,>=2.13.0->spacy>=2.2.2->es_core_news_sm==2.2.5) (1.24.3)\n",
            "Requirement already satisfied: importlib-metadata>=0.20; python_version < \"3.8\" in /usr/local/lib/python3.6/dist-packages (from catalogue<1.1.0,>=0.0.7->spacy>=2.2.2->es_core_news_sm==2.2.5) (1.6.1)\n",
            "Requirement already satisfied: zipp>=0.5 in /usr/local/lib/python3.6/dist-packages (from importlib-metadata>=0.20; python_version < \"3.8\"->catalogue<1.1.0,>=0.0.7->spacy>=2.2.2->es_core_news_sm==2.2.5) (3.1.0)\n",
            "Building wheels for collected packages: es-core-news-sm\n",
            "  Building wheel for es-core-news-sm (setup.py) ... \u001b[?25l\u001b[?25hdone\n",
            "  Created wheel for es-core-news-sm: filename=es_core_news_sm-2.2.5-cp36-none-any.whl size=16172936 sha256=86833d2af6e64b990855fac3a9a3de7b7cb7988ef3a816a582501f4a25644057\n",
            "  Stored in directory: /tmp/pip-ephem-wheel-cache-iwdrjtew/wheels/05/4f/66/9d0c806f86de08e8645d67996798c49e1512f9c3a250d74242\n",
            "Successfully built es-core-news-sm\n",
            "Installing collected packages: es-core-news-sm\n",
            "Successfully installed es-core-news-sm-2.2.5\n",
            "\u001b[38;5;2m✔ Download and installation successful\u001b[0m\n",
            "You can now load the model via spacy.load('es_core_news_sm')\n",
            "\u001b[38;5;2m✔ Linking successful\u001b[0m\n",
            "/usr/local/lib/python3.6/dist-packages/es_core_news_sm -->\n",
            "/usr/local/lib/python3.6/dist-packages/spacy/data/es\n",
            "You can now load the model via spacy.load('es')\n",
            "Collecting stop_words\n",
            "  Downloading https://files.pythonhosted.org/packages/1c/cb/d58290804b7a4c5daa42abbbe2a93c477ae53e45541b1825e86f0dfaaf63/stop-words-2018.7.23.tar.gz\n",
            "Building wheels for collected packages: stop-words\n",
            "  Building wheel for stop-words (setup.py) ... \u001b[?25l\u001b[?25hdone\n",
            "  Created wheel for stop-words: filename=stop_words-2018.7.23-cp36-none-any.whl size=32917 sha256=aa1420b23517b10a322217ee940cbaef49c681d29f9905e6487fd5654b575155\n",
            "  Stored in directory: /root/.cache/pip/wheels/75/37/6a/2b295e03bd07290f0da95c3adb9a74ba95fbc333aa8b0c7c78\n",
            "Successfully built stop-words\n",
            "Installing collected packages: stop-words\n",
            "Successfully installed stop-words-2018.7.23\n",
            "Collecting stopwords\n",
            "\u001b[?25l  Downloading https://files.pythonhosted.org/packages/14/a2/d4eb1d5e609fa0b1d59e929db8eb9ae540f8b2d6db3a4ba26f713e81af15/stopwords-0.1.3.tar.gz (41kB)\n",
            "\u001b[K     |████████████████████████████████| 51kB 1.7MB/s \n",
            "\u001b[?25hBuilding wheels for collected packages: stopwords\n",
            "  Building wheel for stopwords (setup.py) ... \u001b[?25l\u001b[?25hdone\n",
            "  Created wheel for stopwords: filename=stopwords-0.1.3-py2.py3-none-any.whl size=37286 sha256=ae2902b4bf700dbcd84b3d43b435c792b628496b517945f4eba9eb0375f9d14e\n",
            "  Stored in directory: /root/.cache/pip/wheels/39/fa/c7/c4c5111e658f5c58465d948165dc3395a3c10ff57f4cd20356\n",
            "Successfully built stopwords\n",
            "Installing collected packages: stopwords\n",
            "Successfully installed stopwords-0.1.3\n",
            "Collecting pyLDAvis\n",
            "\u001b[?25l  Downloading https://files.pythonhosted.org/packages/a5/3a/af82e070a8a96e13217c8f362f9a73e82d61ac8fff3a2561946a97f96266/pyLDAvis-2.1.2.tar.gz (1.6MB)\n",
            "\u001b[K     |████████████████████████████████| 1.6MB 2.8MB/s \n",
            "\u001b[?25hRequirement already satisfied: wheel>=0.23.0 in /usr/local/lib/python3.6/dist-packages (from pyLDAvis) (0.34.2)\n",
            "Requirement already satisfied: numpy>=1.9.2 in /usr/local/lib/python3.6/dist-packages (from pyLDAvis) (1.18.5)\n",
            "Requirement already satisfied: scipy>=0.18.0 in /usr/local/lib/python3.6/dist-packages (from pyLDAvis) (1.4.1)\n",
            "Requirement already satisfied: pandas>=0.17.0 in /usr/local/lib/python3.6/dist-packages (from pyLDAvis) (1.0.5)\n",
            "Requirement already satisfied: joblib>=0.8.4 in /usr/local/lib/python3.6/dist-packages (from pyLDAvis) (0.15.1)\n",
            "Requirement already satisfied: jinja2>=2.7.2 in /usr/local/lib/python3.6/dist-packages (from pyLDAvis) (2.11.2)\n",
            "Requirement already satisfied: numexpr in /usr/local/lib/python3.6/dist-packages (from pyLDAvis) (2.7.1)\n",
            "Requirement already satisfied: pytest in /usr/local/lib/python3.6/dist-packages (from pyLDAvis) (3.6.4)\n",
            "Requirement already satisfied: future in /usr/local/lib/python3.6/dist-packages (from pyLDAvis) (0.16.0)\n",
            "Collecting funcy\n",
            "\u001b[?25l  Downloading https://files.pythonhosted.org/packages/ce/4b/6ffa76544e46614123de31574ad95758c421aae391a1764921b8a81e1eae/funcy-1.14.tar.gz (548kB)\n",
            "\u001b[K     |████████████████████████████████| 552kB 16.3MB/s \n",
            "\u001b[?25hRequirement already satisfied: pytz>=2017.2 in /usr/local/lib/python3.6/dist-packages (from pandas>=0.17.0->pyLDAvis) (2018.9)\n",
            "Requirement already satisfied: python-dateutil>=2.6.1 in /usr/local/lib/python3.6/dist-packages (from pandas>=0.17.0->pyLDAvis) (2.8.1)\n",
            "Requirement already satisfied: MarkupSafe>=0.23 in /usr/local/lib/python3.6/dist-packages (from jinja2>=2.7.2->pyLDAvis) (1.1.1)\n",
            "Requirement already satisfied: atomicwrites>=1.0 in /usr/local/lib/python3.6/dist-packages (from pytest->pyLDAvis) (1.4.0)\n",
            "Requirement already satisfied: six>=1.10.0 in /usr/local/lib/python3.6/dist-packages (from pytest->pyLDAvis) (1.12.0)\n",
            "Requirement already satisfied: more-itertools>=4.0.0 in /usr/local/lib/python3.6/dist-packages (from pytest->pyLDAvis) (8.4.0)\n",
            "Requirement already satisfied: attrs>=17.4.0 in /usr/local/lib/python3.6/dist-packages (from pytest->pyLDAvis) (19.3.0)\n",
            "Requirement already satisfied: pluggy<0.8,>=0.5 in /usr/local/lib/python3.6/dist-packages (from pytest->pyLDAvis) (0.7.1)\n",
            "Requirement already satisfied: setuptools in /usr/local/lib/python3.6/dist-packages (from pytest->pyLDAvis) (47.3.1)\n",
            "Requirement already satisfied: py>=1.5.0 in /usr/local/lib/python3.6/dist-packages (from pytest->pyLDAvis) (1.8.2)\n",
            "Building wheels for collected packages: pyLDAvis, funcy\n",
            "  Building wheel for pyLDAvis (setup.py) ... \u001b[?25l\u001b[?25hdone\n",
            "  Created wheel for pyLDAvis: filename=pyLDAvis-2.1.2-py2.py3-none-any.whl size=97711 sha256=df00afa6327c8c287ede97a37fc99c3cc93df2731f37eb998af0ded2bdf5c221\n",
            "  Stored in directory: /root/.cache/pip/wheels/98/71/24/513a99e58bb6b8465bae4d2d5e9dba8f0bef8179e3051ac414\n",
            "  Building wheel for funcy (setup.py) ... \u001b[?25l\u001b[?25hdone\n",
            "  Created wheel for funcy: filename=funcy-1.14-py2.py3-none-any.whl size=32042 sha256=26566128e1d67696fd8daff68bd09a0bbfc6eec55213fc4fe2bf88b49b068cea\n",
            "  Stored in directory: /root/.cache/pip/wheels/20/5a/d8/1d875df03deae6f178dfdf70238cca33f948ef8a6f5209f2eb\n",
            "Successfully built pyLDAvis funcy\n",
            "Installing collected packages: funcy, pyLDAvis\n",
            "Successfully installed funcy-1.14 pyLDAvis-2.1.2\n"
          ],
          "name": "stdout"
        }
      ]
    },
    {
      "cell_type": "code",
      "metadata": {
        "id": "iCT6aRoKYE7u",
        "colab": {
          "base_uri": "https://localhost:8080/",
          "height": 104
        },
        "outputId": "6c393e33-b1b1-476a-937a-c3f6c1776109"
      },
      "source": [
        "import nltk\n",
        "nltk.download('stopwords')\n",
        "\n",
        "nltk.download('wordnet')"
      ],
      "execution_count": null,
      "outputs": [
        {
          "output_type": "stream",
          "text": [
            "[nltk_data] Downloading package stopwords to /root/nltk_data...\n",
            "[nltk_data]   Unzipping corpora/stopwords.zip.\n",
            "[nltk_data] Downloading package wordnet to /root/nltk_data...\n",
            "[nltk_data]   Unzipping corpora/wordnet.zip.\n"
          ],
          "name": "stdout"
        },
        {
          "output_type": "execute_result",
          "data": {
            "text/plain": [
              "True"
            ]
          },
          "metadata": {
            "tags": []
          },
          "execution_count": 4
        }
      ]
    },
    {
      "cell_type": "code",
      "metadata": {
        "id": "113CZRUdRO8I"
      },
      "source": [
        "import re\n",
        "import numpy as np\n",
        "import pandas as pd\n",
        "from pprint import pprint\n",
        "\n",
        "# Gensim\n",
        "import gensim\n",
        "import gensim.corpora as corpora\n",
        "from gensim.utils import simple_preprocess\n",
        "from gensim.models import CoherenceModel\n",
        "\n",
        "# spacy for lemmatization\n",
        "import spacy\n",
        "\n",
        "# Plotting tools\n",
        "import pyLDAvis\n",
        "import pyLDAvis.gensim  # don't skip this\n",
        "import matplotlib.pyplot as plt\n",
        "%matplotlib inline\n",
        "\n",
        "# Enable logging for gensim - optional\n",
        "import logging\n",
        "logging.basicConfig(format='%(asctime)s : %(levelname)s : %(message)s', level=logging.ERROR)\n",
        "\n",
        "import warnings\n",
        "warnings.filterwarnings(\"ignore\",category=DeprecationWarning)"
      ],
      "execution_count": null,
      "outputs": []
    },
    {
      "cell_type": "code",
      "metadata": {
        "id": "wwrr_8WPVJP1"
      },
      "source": [
        "from nltk.corpus import stopwords\n",
        "stop_words = stopwords.words('spanish')\n"
      ],
      "execution_count": null,
      "outputs": []
    },
    {
      "cell_type": "code",
      "metadata": {
        "id": "fcyU6PPR3dXz",
        "colab": {
          "base_uri": "https://localhost:8080/",
          "height": 124
        },
        "outputId": "a1e37316-addc-40de-b931-fa04b287982a"
      },
      "source": [
        "from google.colab import drive\n",
        "drive.mount('/content/drive')"
      ],
      "execution_count": null,
      "outputs": [
        {
          "output_type": "stream",
          "text": [
            "Go to this URL in a browser: https://accounts.google.com/o/oauth2/auth?client_id=947318989803-6bn6qk8qdgf4n4g3pfee6491hc0brc4i.apps.googleusercontent.com&redirect_uri=urn%3aietf%3awg%3aoauth%3a2.0%3aoob&response_type=code&scope=email%20https%3a%2f%2fwww.googleapis.com%2fauth%2fdocs.test%20https%3a%2f%2fwww.googleapis.com%2fauth%2fdrive%20https%3a%2f%2fwww.googleapis.com%2fauth%2fdrive.photos.readonly%20https%3a%2f%2fwww.googleapis.com%2fauth%2fpeopleapi.readonly\n",
            "\n",
            "Enter your authorization code:\n",
            "··········\n",
            "Mounted at /content/drive\n"
          ],
          "name": "stdout"
        }
      ]
    },
    {
      "cell_type": "code",
      "metadata": {
        "id": "PzfPz-2BRO8Q"
      },
      "source": [
        "\n",
        "df = pd.read_csv('/content/drive/My Drive/Colab Notebooks/total_t.csv', lineterminator='\\n', index_col=0)"
      ],
      "execution_count": null,
      "outputs": []
    },
    {
      "cell_type": "code",
      "metadata": {
        "id": "Cj50x15JRO8c",
        "colab": {
          "base_uri": "https://localhost:8080/",
          "height": 206
        },
        "outputId": "7ee7f5d1-9035-4ef1-c603-f3e47971c2e8"
      },
      "source": [
        "\n",
        "df.head()"
      ],
      "execution_count": null,
      "outputs": [
        {
          "output_type": "execute_result",
          "data": {
            "text/html": [
              "<div>\n",
              "<style scoped>\n",
              "    .dataframe tbody tr th:only-of-type {\n",
              "        vertical-align: middle;\n",
              "    }\n",
              "\n",
              "    .dataframe tbody tr th {\n",
              "        vertical-align: top;\n",
              "    }\n",
              "\n",
              "    .dataframe thead th {\n",
              "        text-align: right;\n",
              "    }\n",
              "</style>\n",
              "<table border=\"1\" class=\"dataframe\">\n",
              "  <thead>\n",
              "    <tr style=\"text-align: right;\">\n",
              "      <th></th>\n",
              "      <th>usuario</th>\n",
              "      <th>texto</th>\n",
              "      <th>full_place</th>\n",
              "      <th>id</th>\n",
              "      <th>fecha</th>\n",
              "    </tr>\n",
              "  </thead>\n",
              "  <tbody>\n",
              "    <tr>\n",
              "      <th>0</th>\n",
              "      <td>lebresol</td>\n",
              "      <td>@Arkitektoplus @ElJulesOlivar Nos estamos tard...</td>\n",
              "      <td>Mérida, Yucatán</td>\n",
              "      <td>1252669413289058311</td>\n",
              "      <td>2020-04-21 13:43:56-05:00</td>\n",
              "    </tr>\n",
              "    <tr>\n",
              "      <th>1</th>\n",
              "      <td>tavosanchezmx</td>\n",
              "      <td>En esta cuarentena solo estoy soando pura pend...</td>\n",
              "      <td>Monterrey, Nuevo León</td>\n",
              "      <td>1252669425666281477</td>\n",
              "      <td>2020-04-21 13:43:59-05:00</td>\n",
              "    </tr>\n",
              "    <tr>\n",
              "      <th>2</th>\n",
              "      <td>ChicanActivXt</td>\n",
              "      <td>@EspinozaOficial Porque no haces video en vivo...</td>\n",
              "      <td>Matamoros, Tamaulipas</td>\n",
              "      <td>1252671344522772486</td>\n",
              "      <td>2020-04-21 13:51:36-05:00</td>\n",
              "    </tr>\n",
              "    <tr>\n",
              "      <th>3</th>\n",
              "      <td>jorgenunez63</td>\n",
              "      <td>. En plena crisis por la pandemia, sigue prese...</td>\n",
              "      <td>Centro, Tabasco</td>\n",
              "      <td>1252695517567619079</td>\n",
              "      <td>2020-04-21 15:27:40-05:00</td>\n",
              "    </tr>\n",
              "    <tr>\n",
              "      <th>4</th>\n",
              "      <td>josearturoloya3</td>\n",
              "      <td>@NATREY90 Correcto #AmloElMejorPresidenteDelMu...</td>\n",
              "      <td>Delicias, Chihuahua</td>\n",
              "      <td>1252695827694354434</td>\n",
              "      <td>2020-04-21 15:28:53-05:00</td>\n",
              "    </tr>\n",
              "  </tbody>\n",
              "</table>\n",
              "</div>"
            ],
            "text/plain": [
              "           usuario  ...                      fecha\n",
              "0         lebresol  ...  2020-04-21 13:43:56-05:00\n",
              "1    tavosanchezmx  ...  2020-04-21 13:43:59-05:00\n",
              "2    ChicanActivXt  ...  2020-04-21 13:51:36-05:00\n",
              "3     jorgenunez63  ...  2020-04-21 15:27:40-05:00\n",
              "4  josearturoloya3  ...  2020-04-21 15:28:53-05:00\n",
              "\n",
              "[5 rows x 5 columns]"
            ]
          },
          "metadata": {
            "tags": []
          },
          "execution_count": 11
        }
      ]
    },
    {
      "cell_type": "code",
      "metadata": {
        "id": "-0bWZOfRRO85"
      },
      "source": [
        "docs=df['texto'].to_list()"
      ],
      "execution_count": null,
      "outputs": []
    },
    {
      "cell_type": "code",
      "metadata": {
        "id": "GEZDoog3RO9B",
        "colab": {
          "base_uri": "https://localhost:8080/",
          "height": 211
        },
        "outputId": "49a04cef-135f-4db8-ea9d-4461631f1105"
      },
      "source": [
        "docs[:10]"
      ],
      "execution_count": null,
      "outputs": [
        {
          "output_type": "execute_result",
          "data": {
            "text/plain": [
              "['@Arkitektoplus @ElJulesOlivar Nos estamos tardando para hacer justicia de este terrorista carroero @FelipeCalderon  #BoicotTVAzteca  #QuedateEnCasa  #AMLOLujoDePresidente',\n",
              " 'En esta cuarentena solo estoy soando pura pendejadas ',\n",
              " '@EspinozaOficial Porque no haces video en vivo para los que esten en cuarentena?? ',\n",
              " '. En plena crisis por la pandemia, sigue presente la lucha politica entre grupos ideologicos irreconciliables. Esto es lamentable, porque muchos veian en esta coyuntura la oportunidad de unidad de los mexicanos. Que desolador. https://t.co/PyGOFUBAfu',\n",
              " '@NATREY90 Correcto #AmloElMejorPresidenteDelMundo #QuedateEnCasa',\n",
              " ' Creating the best moments!  Reservations:  Mex: +52 (322) 193 7821  USA/CAN: +1 (206) 414 5139  info@vallartastays.com  https://t.co/yudV1E4xKm #VallartaStays #VallartaLovers #PuertoVallarta #Beach #Vacations #Mexico #Paradise #QuedateEnCasa #StayHome https://t.co/jMDwq2gRzj',\n",
              " '@Cecevich ES UN VIRUS SE DETUVO LA ECONOMIA.',\n",
              " '@Elizabe94900102 @Donistorres20 @ElMajePorteno_ @luisgutierrezfe @MrJuanGPerez @Hnoe87 Cierto Rhous mantener el sistema inmunologico (escudo del cuerpo ante cualquier virus) en buen estado, inicia con una dieta balanceada.',\n",
              " 'Este es un cupon balido para unas chelas cuando pase todo esto. Valido dando FAV #FaseTres #QuedateEnCasa',\n",
              " '@Ferka PS todos saldremos con 5  o  mas kilos  de esta pandemia...']"
            ]
          },
          "metadata": {
            "tags": []
          },
          "execution_count": 13
        }
      ]
    },
    {
      "cell_type": "code",
      "metadata": {
        "id": "xArpSml8RO9M"
      },
      "source": [
        "import re, string\n",
        "def remove_Htt(text):\n",
        "    return re.sub(r'https://*\\S*', \"\", text)\n",
        "    \n",
        "def remove_punctuation ( text ):\n",
        "    return re.sub('[%s]' % re.escape(string.punctuation), ' ', text)\n",
        "\n",
        "def deEmojify(inputString):\n",
        "    return inputString.encode('ascii', 'ignore').decode('utf-8')"
      ],
      "execution_count": null,
      "outputs": []
    },
    {
      "cell_type": "code",
      "metadata": {
        "id": "eMwhtly9RO9W"
      },
      "source": [
        "docs=[remove_punctuation(remove_Htt(i.lower())) for i in docs]"
      ],
      "execution_count": null,
      "outputs": []
    },
    {
      "cell_type": "code",
      "metadata": {
        "id": "kffUiNmURO9g",
        "colab": {
          "base_uri": "https://localhost:8080/",
          "height": 69
        },
        "outputId": "d45c4518-b721-4595-e282-4cdc40d246a5"
      },
      "source": [
        "data = [re.sub('\\S*@\\S*\\s?', '', sent) for sent in docs]\n",
        "\n",
        "# Remove new line characters\n",
        "data = [re.sub('\\s+', ' ', sent) for sent in data]\n",
        "\n",
        "# Remove distracting single quotes\n",
        "data = [re.sub(\"\\'\", \"\", sent) for sent in data]\n",
        "\n",
        "pprint(data[:1])"
      ],
      "execution_count": null,
      "outputs": [
        {
          "output_type": "stream",
          "text": [
            "[' arkitektoplus eljulesolivar nos estamos tardando para hacer justicia de '\n",
            " 'este terrorista carroero felipecalderon boicottvazteca quedateencasa '\n",
            " 'amlolujodepresidente']\n"
          ],
          "name": "stdout"
        }
      ]
    },
    {
      "cell_type": "code",
      "metadata": {
        "id": "zck81GuMWDL5",
        "colab": {
          "base_uri": "https://localhost:8080/",
          "height": 34
        },
        "outputId": "9b59f23e-598d-4d60-d379-d16c41f66c68"
      },
      "source": [
        "data[:1]"
      ],
      "execution_count": null,
      "outputs": [
        {
          "output_type": "execute_result",
          "data": {
            "text/plain": [
              "[' arkitektoplus eljulesolivar nos estamos tardando para hacer justicia de este terrorista carroero felipecalderon boicottvazteca quedateencasa amlolujodepresidente']"
            ]
          },
          "metadata": {
            "tags": []
          },
          "execution_count": 17
        }
      ]
    },
    {
      "cell_type": "code",
      "metadata": {
        "id": "mTzEk1VpVqwR",
        "colab": {
          "base_uri": "https://localhost:8080/",
          "height": 34
        },
        "outputId": "78c23f84-995e-4e02-8c1f-17ad4d3e7f45"
      },
      "source": [
        "def sent_to_words(sentences):\n",
        "    for sentence in sentences:\n",
        "        yield(gensim.utils.simple_preprocess(str(sentence), deacc=True))  # deacc=True removes punctuations\n",
        "\n",
        "data_words = list(sent_to_words(data))\n",
        "\n",
        "print(data_words[:1])"
      ],
      "execution_count": null,
      "outputs": [
        {
          "output_type": "stream",
          "text": [
            "[['arkitektoplus', 'eljulesolivar', 'nos', 'estamos', 'tardando', 'para', 'hacer', 'justicia', 'de', 'este', 'terrorista', 'carroero', 'felipecalderon', 'boicottvazteca', 'quedateencasa']]\n"
          ],
          "name": "stdout"
        }
      ]
    },
    {
      "cell_type": "code",
      "metadata": {
        "id": "WSJkbnrNWT1j",
        "colab": {
          "base_uri": "https://localhost:8080/",
          "height": 69
        },
        "outputId": "e6823029-f534-4ad3-8cd3-99ec8c9d952f"
      },
      "source": [
        "# Build the bigram and trigram models\n",
        "bigram = gensim.models.Phrases(data_words, min_count=5, threshold=100) # higher threshold fewer phrases.\n",
        "trigram = gensim.models.Phrases(bigram[data_words], threshold=100)  \n",
        "\n",
        "# Faster way to get a sentence clubbed as a trigram/bigram\n",
        "bigram_mod = gensim.models.phrases.Phraser(bigram)\n",
        "trigram_mod = gensim.models.phrases.Phraser(trigram)\n",
        "\n",
        "# See trigram example\n",
        "print(trigram_mod[bigram_mod[data_words[0]]])"
      ],
      "execution_count": null,
      "outputs": [
        {
          "output_type": "stream",
          "text": [
            "/usr/local/lib/python3.6/dist-packages/gensim/models/phrases.py:598: UserWarning: For a faster implementation, use the gensim.models.phrases.Phraser class\n",
            "  warnings.warn(\"For a faster implementation, use the gensim.models.phrases.Phraser class\")\n"
          ],
          "name": "stderr"
        },
        {
          "output_type": "stream",
          "text": [
            "['arkitektoplus', 'eljulesolivar', 'nos', 'estamos', 'tardando', 'para', 'hacer', 'justicia', 'de', 'este', 'terrorista', 'carroero', 'felipecalderon', 'boicottvazteca', 'quedateencasa']\n"
          ],
          "name": "stdout"
        }
      ]
    },
    {
      "cell_type": "code",
      "metadata": {
        "id": "z0pnGJCtWVhS"
      },
      "source": [
        "# Define functions for stopwords, bigrams, trigrams and lemmatization\n",
        "def remove_stopwords(texts):\n",
        "    return [[word for word in simple_preprocess(str(doc)) if word not in stop_words] for doc in texts]\n",
        "\n",
        "def make_bigrams(texts):\n",
        "    return [bigram_mod[doc] for doc in texts]\n",
        "\n",
        "def make_trigrams(texts):\n",
        "    return [trigram_mod[bigram_mod[doc]] for doc in texts]\n",
        "\n",
        "def lemmatization(texts, allowed_postags=['NOUN', 'ADJ', 'VERB', 'ADV']):\n",
        "    \"\"\"https://spacy.io/api/annotation\"\"\"\n",
        "    texts_out = []\n",
        "    for sent in texts:\n",
        "        doc = nlp(\" \".join(sent)) \n",
        "        texts_out.append([token.lemma_ for token in doc if token.pos_ in allowed_postags])\n",
        "    return texts_out"
      ],
      "execution_count": null,
      "outputs": []
    },
    {
      "cell_type": "code",
      "metadata": {
        "id": "6PV0xQaEWr-M",
        "colab": {
          "base_uri": "https://localhost:8080/",
          "height": 34
        },
        "outputId": "68f315b6-4047-40cc-bfd4-e16c8175da68"
      },
      "source": [
        "# Remove Stop Words\n",
        "data_words_nostops = remove_stopwords(data_words)\n",
        "\n",
        "# Form Bigrams\n",
        "data_words_bigrams = make_bigrams(data_words_nostops)\n",
        "\n",
        "# Initialize spacy 'en' model, keeping only tagger component (for efficiency)\n",
        "# python3 -m spacy download en\n",
        "nlp = spacy.load('en', disable=['parser', 'ner'])\n",
        "\n",
        "# Do lemmatization keeping only noun, adj, vb, adv\n",
        "data_lemmatized = lemmatization(data_words_bigrams, allowed_postags=['NOUN', 'ADJ', 'VERB', 'ADV'])\n",
        "\n",
        "print(data_lemmatized[:1])"
      ],
      "execution_count": null,
      "outputs": [
        {
          "output_type": "stream",
          "text": [
            "[[]]\n"
          ],
          "name": "stdout"
        }
      ]
    },
    {
      "cell_type": "code",
      "metadata": {
        "id": "rLmzksSyWvpC",
        "colab": {
          "base_uri": "https://localhost:8080/",
          "height": 34
        },
        "outputId": "512e6fee-b8a3-4e2e-efca-99ef134fa66c"
      },
      "source": [
        "# Create Dictionary\n",
        "id2word = corpora.Dictionary(data_lemmatized)\n",
        "\n",
        "# Create Corpus\n",
        "texts = data_lemmatized\n",
        "\n",
        "# Term Document Frequency\n",
        "corpus = [id2word.doc2bow(text) for text in texts]\n",
        "\n",
        "# View\n",
        "print(corpus[:1])"
      ],
      "execution_count": null,
      "outputs": [
        {
          "output_type": "stream",
          "text": [
            "[[]]\n"
          ],
          "name": "stdout"
        }
      ]
    },
    {
      "cell_type": "code",
      "metadata": {
        "id": "3dnTO_V6XOig",
        "colab": {
          "base_uri": "https://localhost:8080/",
          "height": 34
        },
        "outputId": "b0e62006-eedd-4822-dfbd-eebf2cfbaf94"
      },
      "source": [
        "# Human readable format of corpus (term-frequency)\n",
        "[[(id2word[id], freq) for id, freq in cp] for cp in corpus[:1]]"
      ],
      "execution_count": null,
      "outputs": [
        {
          "output_type": "execute_result",
          "data": {
            "text/plain": [
              "[[]]"
            ]
          },
          "metadata": {
            "tags": []
          },
          "execution_count": 24
        }
      ]
    },
    {
      "cell_type": "code",
      "metadata": {
        "id": "zDVVFD1AXVje"
      },
      "source": [
        "# Build LDA model\n",
        "lda_model = gensim.models.ldamodel.LdaModel(corpus=corpus,\n",
        "                                           id2word=id2word,\n",
        "                                           num_topics=20, \n",
        "                                           random_state=100,\n",
        "                                           update_every=1,\n",
        "                                           chunksize=100,\n",
        "                                           passes=10,\n",
        "                                           alpha='auto',\n",
        "                                           per_word_topics=True)"
      ],
      "execution_count": null,
      "outputs": []
    },
    {
      "cell_type": "code",
      "metadata": {
        "id": "uIdk7DnwXa-D",
        "colab": {
          "base_uri": "https://localhost:8080/",
          "height": 1000
        },
        "outputId": "b919d3b8-540b-4d5e-a329-d66d0746a9fe"
      },
      "source": [
        "# Print the Keyword in the 10 topics\n",
        "pprint(lda_model.print_topics())\n",
        "doc_lda = lda_model[corpus]"
      ],
      "execution_count": null,
      "outputs": [
        {
          "output_type": "stream",
          "text": [
            "[(0,\n",
            "  '0.041*\"falta\" + 0.034*\"peor\" + 0.034*\"total\" + 0.028*\"gobierno\" + '\n",
            "  '0.027*\"increible\" + 0.022*\"flore\" + 0.021*\"lune\" + 0.019*\"limit\" + '\n",
            "  '0.019*\"actor\" + 0.018*\"comercio\"'),\n",
            " (1,\n",
            "  '0.072*\"muerte\" + 0.059*\"alimentacion\" + 0.037*\"autoridade\" + 0.017*\"diario\" '\n",
            "  '+ 0.016*\"empieza\" + 0.015*\"dinero\" + 0.014*\"fortalecer\" + 0.014*\"empleo\" + '\n",
            "  '0.013*\"inform\" + 0.013*\"evento\"'),\n",
            " (2,\n",
            "  '0.061*\"cuarentena\" + 0.044*\"sale\" + 0.041*\"igual\" + '\n",
            "  '0.038*\"cdeprihidalgo_erika\" + 0.024*\"defuncione\" + 0.020*\"regular\" + '\n",
            "  '0.019*\"papa\" + 0.019*\"coahuila\" + 0.017*\"comer\" + 0.017*\"viral\"'),\n",
            " (3,\n",
            "  '0.057*\"despue\" + 0.038*\"poder\" + 0.032*\"covid\" + 0.022*\"pobre\" + '\n",
            "  '0.018*\"nuevo\" + 0.016*\"responsable\" + 0.016*\"marte\" + 0.015*\"termine\" + '\n",
            "  '0.015*\"tre\" + 0.015*\"call\"'),\n",
            " (4,\n",
            "  '0.050*\"pueblo\" + 0.044*\"color\" + 0.025*\"cliente\" + 0.023*\"obra\" + '\n",
            "  '0.023*\"debe\" + 0.019*\"madre\" + 0.018*\"importante\" + 0.017*\"pais\" + '\n",
            "  '0.015*\"estre\" + 0.015*\"construccion\"'),\n",
            " (5,\n",
            "  '0.033*\"atencion\" + 0.021*\"fin\" + 0.018*\"pride\" + 0.018*\"felice\" + '\n",
            "  '0.017*\"travel\" + 0.017*\"disponible\" + 0.016*\"voz\" + 0.015*\"live\" + '\n",
            "  '0.014*\"darle\" + 0.012*\"informacion\"'),\n",
            " (6,\n",
            "  '0.073*\"paise\" + 0.044*\"video\" + 0.040*\"photooftheday\" + 0.039*\"vulnerable\" '\n",
            "  '+ 0.033*\"mejore\" + 0.027*\"bebe\" + 0.027*\"peso\" + 0.020*\"creen\" + '\n",
            "  '0.020*\"voy\" + 0.019*\"final\"'),\n",
            " (7,\n",
            "  '0.076*\"paciente\" + 0.046*\"lopezobrador\" + 0.042*\"trabajadore\" + '\n",
            "  '0.036*\"poblacion\" + 0.033*\"sigue\" + 0.029*\"hacer\" + 0.025*\"mujere\" + '\n",
            "  '0.023*\"cancer\" + 0.019*\"accione\" + 0.016*\"gobernadore\"'),\n",
            " (8,\n",
            "  '0.057*\"hospitale\" + 0.030*\"decision\" + 0.030*\"solucione\" + 0.022*\"solucion\" '\n",
            "  '+ 0.022*\"ustede\" + 0.020*\"entidade\" + 0.020*\"pre\" + 0.018*\"felicidade\" + '\n",
            "  '0.017*\"salir\" + 0.016*\"enfermedade\"'),\n",
            " (9,\n",
            "  '0.110*\"salud\" + 0.074*\"trave\" + 0.030*\"cndh\" + 0.030*\"hogare\" + '\n",
            "  '0.028*\"servicio\" + 0.023*\"diferente\" + 0.021*\"terrible\" + '\n",
            "  '0.018*\"naturaleza\" + 0.015*\"cuale\" + 0.015*\"irresponsable\"'),\n",
            " (10,\n",
            "  '0.117*\"cdmx\" + 0.069*\"favor\" + 0.053*\"quizas\" + 0.036*\"mexico\" + '\n",
            "  '0.021*\"normal\" + 0.021*\"persona\" + 0.019*\"beautiful\" + 0.018*\"tenia\" + '\n",
            "  '0.016*\"mohammad\" + 0.015*\"yemeni\"'),\n",
            " (11,\n",
            "  '0.162*\"puede\" + 0.105*\"dio\" + 0.032*\"dema\" + 0.026*\"triste\" + '\n",
            "  '0.017*\"youtube\" + 0.016*\"participacion\" + 0.015*\"semana\" + 0.011*\"queda\" + '\n",
            "  '0.011*\"comunidade\" + 0.011*\"perder\"'),\n",
            " (12,\n",
            "  '0.050*\"millone\" + 0.043*\"tiempo\" + 0.043*\"love\" + 0.036*\"uste\" + '\n",
            "  '0.025*\"necesidade\" + 0.025*\"virtual\" + 0.025*\"real\" + 0.022*\"prioridade\" + '\n",
            "  '0.018*\"proteccion\" + 0.018*\"vierne\"'),\n",
            " (13,\n",
            "  '0.155*\"pue\" + 0.122*\"pandemia\" + 0.059*\"situacion\" + 0.046*\"mese\" + '\n",
            "  '0.026*\"hace\" + 0.014*\"verdad\" + 0.014*\"actual\" + 0.012*\"material\" + '\n",
            "  '0.010*\"llevo\" + 0.010*\"existe\"'),\n",
            " (14,\n",
            "  '0.060*\"personal\" + 0.051*\"felizjueve\" + 0.039*\"hora\" + 0.028*\"pico\" + '\n",
            "  '0.025*\"usted\" + 0.024*\"medio\" + 0.024*\"continua\" + 0.024*\"reducir\" + '\n",
            "  '0.023*\"vece\" + 0.018*\"beber\"'),\n",
            " (15,\n",
            "  '0.088*\"plan\" + 0.076*\"nio\" + 0.041*\"quiere\" + 0.026*\"sector\" + '\n",
            "  '0.022*\"familiar\" + 0.021*\"cdm\" + 0.020*\"control\" + 0.018*\"nunca\" + '\n",
            "  '0.017*\"opinion\" + 0.011*\"seran\"'),\n",
            " (16,\n",
            "  '0.061*\"posible\" + 0.058*\"actividade\" + 0.058*\"entonce\" + 0.056*\"atend\" + '\n",
            "  '0.030*\"sino\" + 0.026*\"leer\" + 0.024*\"area\" + 0.019*\"anteriore\" + '\n",
            "  '0.019*\"doctor\" + 0.018*\"estudiante\"'),\n",
            " (17,\n",
            "  '0.273*\"crisis\" + 0.026*\"dice\" + 0.023*\"economica\" + 0.019*\"primero\" + '\n",
            "  '0.019*\"grave\" + 0.017*\"pase\" + 0.015*\"toca\" + 0.012*\"case\" + '\n",
            "  '0.012*\"twitter\" + 0.011*\"debido\"'),\n",
            " (18,\n",
            "  '0.119*\"sntesalud\" + 0.043*\"fase\" + 0.034*\"educacion\" + 0.028*\"transmision\" '\n",
            "  '+ 0.022*\"fundamental\" + 0.019*\"medida\" + 0.017*\"amlo\" + 0.017*\"deben\" + '\n",
            "  '0.017*\"siguiente\" + 0.011*\"use\"'),\n",
            " (19,\n",
            "  '0.426*\"virus\" + 0.022*\"contagio\" + 0.020*\"chumeltorre\" + 0.013*\"rebrote\" + '\n",
            "  '0.013*\"habitante\" + 0.011*\"factor\" + 0.011*\"continue\" + 0.010*\"hospital\" + '\n",
            "  '0.010*\"dosis\" + 0.007*\"controlar\"')]\n"
          ],
          "name": "stdout"
        }
      ]
    },
    {
      "cell_type": "code",
      "metadata": {
        "id": "PNrakieAXfGT",
        "colab": {
          "base_uri": "https://localhost:8080/",
          "height": 86
        },
        "outputId": "a01992e0-16fd-4834-bb0e-1d1edf559908"
      },
      "source": [
        "# Compute Perplexity\n",
        "print('\\nPerplexity: ', lda_model.log_perplexity(corpus))  # a measure of how good the model is. lower the better.\n",
        "\n",
        "# Compute Coherence Score\n",
        "coherence_model_lda = CoherenceModel(model=lda_model, texts=data_lemmatized, dictionary=id2word, coherence='c_v')\n",
        "coherence_lda = coherence_model_lda.get_coherence()\n",
        "print('\\nCoherence Score: ', coherence_lda)"
      ],
      "execution_count": null,
      "outputs": [
        {
          "output_type": "stream",
          "text": [
            "\n",
            "Perplexity:  -13.111480187281208\n",
            "\n",
            "Coherence Score:  0.6290720085430531\n"
          ],
          "name": "stdout"
        }
      ]
    },
    {
      "cell_type": "code",
      "metadata": {
        "id": "2BX_5ZU8XnyS"
      },
      "source": [
        "!pip3 install pyLDAvis"
      ],
      "execution_count": null,
      "outputs": []
    },
    {
      "cell_type": "code",
      "metadata": {
        "id": "dDMqCBjoXknI",
        "colab": {
          "base_uri": "https://localhost:8080/",
          "height": 861
        },
        "outputId": "8520491c-ad33-438f-cc59-b9dda07c6334"
      },
      "source": [
        "# Visualize the topics\n",
        "pyLDAvis.enable_notebook()\n",
        "vis = pyLDAvis.gensim.prepare(lda_model, corpus, id2word)\n",
        "vis"
      ],
      "execution_count": null,
      "outputs": [
        {
          "output_type": "execute_result",
          "data": {
            "text/html": [
              "\n",
              "<link rel=\"stylesheet\" type=\"text/css\" href=\"https://cdn.rawgit.com/bmabey/pyLDAvis/files/ldavis.v1.0.0.css\">\n",
              "\n",
              "\n",
              "<div id=\"ldavis_el1431400302470016886471109608\"></div>\n",
              "<script type=\"text/javascript\">\n",
              "\n",
              "var ldavis_el1431400302470016886471109608_data = {\"mdsDat\": {\"x\": [-0.35562737308041587, -0.14912493857370723, -0.05442814834729895, 0.00046817389541080627, 0.06257887930563212, 0.007700611818030471, 0.017821211295834916, 0.009377305365957815, 0.023726978350763876, 0.03259758780670927, 0.024836701817079844, 0.033858049860058914, 0.05047802740552958, 0.03756725821305116, 0.03073324683351872, 0.02885008005944371, 0.03137895692718552, 0.04712485650321673, 0.05523877379877618, 0.06484376074522297], \"y\": [-0.15206093715484223, 0.33561392858073896, -0.01906169161508519, -0.026233592983712438, -0.021911734630678484, -0.013710072856508968, 0.0018726719812323224, -0.007141865051476394, -0.004978889373889181, -0.007937722379561205, -0.003909360027910956, -0.014055227117971202, -0.00831479828233222, -0.01704462853137343, -0.008814766578993256, -0.008353257601742296, -0.01228381790385952, -0.0042737342505830165, -0.004692876810086377, -0.002707627411364268], \"topics\": [1, 2, 3, 4, 5, 6, 7, 8, 9, 10, 11, 12, 13, 14, 15, 16, 17, 18, 19, 20], \"cluster\": [1, 1, 1, 1, 1, 1, 1, 1, 1, 1, 1, 1, 1, 1, 1, 1, 1, 1, 1, 1], \"Freq\": [11.811444282531738, 6.813144683837891, 6.4670867919921875, 5.235537528991699, 5.1384148597717285, 4.998417377471924, 4.955628395080566, 4.837541580200195, 4.712368011474609, 4.697060585021973, 4.575537204742432, 4.524293422698975, 4.25845193862915, 4.2169904708862305, 4.170896530151367, 4.122313022613525, 4.0161566734313965, 3.967787981033325, 3.6101572513580322, 2.8707687854766846]}, \"tinfo\": {\"Term\": [\"virus\", \"crisis\", \"pue\", \"pandemia\", \"puede\", \"salud\", \"cdmx\", \"despue\", \"dio\", \"plan\", \"sntesalud\", \"nio\", \"trave\", \"situacion\", \"paciente\", \"paise\", \"poder\", \"muerte\", \"cuarentena\", \"favor\", \"personal\", \"mese\", \"posible\", \"covid\", \"actividade\", \"entonce\", \"alimentacion\", \"atend\", \"felizjueve\", \"millone\", \"despue\", \"poder\", \"covid\", \"pobre\", \"nuevo\", \"responsable\", \"marte\", \"termine\", \"tre\", \"call\", \"aguascaliente\", \"sabe\", \"whatsapp\", \"prevencion\", \"urge\", \"alimentario\", \"buenmiercole\", \"familiare\", \"buenjueve\", \"quedate\", \"recomendacione\", \"universal\", \"toda\", \"propagacion\", \"mucha\", \"tener\", \"trabajo\", \"alimentos\", \"sospechosos\", \"internet\", \"domo\", \"pue\", \"pandemia\", \"situacion\", \"mese\", \"hace\", \"verdad\", \"actual\", \"material\", \"llevo\", \"existe\", \"dia\", \"show\", \"sesion\", \"empresario\", \"frase\", \"quarantine\", \"online\", \"region\", \"libre\", \"me\", \"fuente\", \"interesa\", \"tratar\", \"pensar\", \"social\", \"pila\", \"obten\", \"dimension\", \"electorale\", \"leve\", \"estandare\", \"amloveteya\", \"virus\", \"contagio\", \"chumeltorre\", \"habitante\", \"rebrote\", \"factor\", \"continue\", \"hospital\", \"dosis\", \"controlar\", \"mayore\", \"epidemiologo\", \"tra\", \"apoco\", \"menos\", \"oms\", \"abran\", \"edad\", \"empleado\", \"labor\", \"invisible\", \"portadore\", \"precedente\", \"elemento\", \"indetectable\", \"reflexion\", \"deficit\", \"emocione\", \"mitigar\", \"marca\", \"crisis\", \"dice\", \"economica\", \"primero\", \"grave\", \"pase\", \"toca\", \"case\", \"twitter\", \"debido\", \"decir\", \"peore\", \"just\", \"sala\", \"hoy\", \"casa\", \"popular\", \"selfie\", \"floral\", \"seore\", \"disfrutar\", \"where\", \"say\", \"people\", \"especie\", \"drink\", \"buenas_noche\", \"puebla\", \"indiferente\", \"thank\", \"atencion\", \"fin\", \"pride\", \"felice\", \"travel\", \"disponible\", \"voz\", \"live\", \"darle\", \"informacion\", \"inter\", \"miercole\", \"record\", \"vario\", \"padre\", \"see\", \"can\", \"piense\", \"top\", \"only\", \"little\", \"edicion\", \"coronavirus\", \"felizlune\", \"retiro\", \"even\", \"info\", \"marketing\", \"music\", \"s\", \"plan\", \"nio\", \"quiere\", \"sector\", \"familiar\", \"cdm\", \"control\", \"nunca\", \"opinion\", \"seran\", \"cerveza\", \"link\", \"inbox\", \"life\", \"siento\", \"sigo\", \"combate\", \"aunque\", \"si\", \"buenlune\", \"hable\", \"hecho\", \"roo\", \"desafio\", \"publico\", \"presento\", \"make\", \"cuidarse\", \"tattoo\", \"orchid\", \"salud\", \"trave\", \"cndh\", \"hogare\", \"servicio\", \"diferente\", \"terrible\", \"naturaleza\", \"cuale\", \"irresponsable\", \"precaucion\", \"profesionale\", \"garantizar\", \"cree\", \"cualquier\", \"bienestar\", \"oficial\", \"ocasion\", \"hombre\", \"general\", \"analisis\", \"brote\", \"facebooklive\", \"cualqui\", \"happy\", \"sociedad\", \"reconoce\", \"afecta\", \"diciendo\", \"culturale\", \"cuarentena\", \"sale\", \"igual\", \"cdeprihidalgo_erika\", \"defuncione\", \"regular\", \"papa\", \"coahuila\", \"comer\", \"viral\", \"mundial\", \"instalacione\", \"posibilidade\", \"defuncion\", \"parece\", \"hidalgo\", \"qro\", \"especial\", \"clase\", \"cuidate\", \"hgo_irh\", \"avance\", \"brutal\", \"onmpri_hgo\", \"integrante\", \"pcdhidalgo_cie\", \"investigacion\", \"beneficio\", \"direccion\", \"spotify\", \"conapre\", \"personal\", \"felizjueve\", \"hora\", \"pico\", \"usted\", \"medio\", \"continua\", \"reducir\", \"vece\", \"beber\", \"cubrebocas\", \"ingreso\", \"momento\", \"gracia\", \"errore\", \"stayhome\", \"indispensable\", \"inevitable\", \"hermosillo\", \"canirac\", \"foto\", \"operacion\", \"horario\", \"ponen\", \"report\", \"adio\", \"mentale\", \"day\", \"loco\", \"promocione\", \"millone\", \"tiempo\", \"love\", \"uste\", \"necesidade\", \"virtual\", \"real\", \"prioridade\", \"proteccion\", \"vierne\", \"solo\", \"aqui\", \"time\", \"tall\", \"humor\", \"lamentable\", \"pretexto\", \"new\", \"cubreboca\", \"vivimo\", \"pie\", \"cuestion\", \"mile\", \"sociale\", \"so\", \"casual\", \"transformacion\", \"pendiente\", \"usuario\", \"opcion\", \"paise\", \"video\", \"photooftheday\", \"vulnerable\", \"mejore\", \"bebe\", \"peso\", \"creen\", \"voy\", \"final\", \"tampoco\", \"look\", \"feliz\", \"lugare\", \"horrible\", \"estudio\", \"bot\", \"conocer\", \"domicilio\", \"ligue\", \"saludable\", \"noche\", \"ordena_recoge\", \"seale\", \"negocio\", \"trata\", \"clip\", \"menore\", \"marzo\", \"municipio\", \"paciente\", \"lopezobrador\", \"trabajadore\", \"poblacion\", \"sigue\", \"hacer\", \"mujere\", \"cancer\", \"accione\", \"gobernadore\", \"nacional\", \"pedir\", \"fuerte\", \"alfredodelmazo\", \"pacientes_grave\", \"corte\", \"guante\", \"derechos\", \"go\", \"take\", \"man\", \"capacitacion\", \"amore\", \"why\", \"oficina\", \"michoacan\", \"haga\", \"vacacione\", \"mitad\", \"pedidos\", \"termina\", \"falta\", \"peor\", \"total\", \"gobierno\", \"increible\", \"flore\", \"lune\", \"limit\", \"actor\", \"comercio\", \"apoyos\", \"sanitizacion\", \"super\", \"pesar\", \"mismo\", \"gobcdmx\", \"registrate\", \"idea\", \"work\", \"espacio\", \"acompaanos\", \"friend\", \"situacione\", \"pare\", \"family\", \"today\", \"moment\", \"haber\", \"home\", \"more\", \"posible\", \"actividade\", \"entonce\", \"atend\", \"sino\", \"leer\", \"area\", \"anteriore\", \"doctor\", \"estudiante\", \"atender\", \"meno\", \"riesgo\", \"combatir\", \"apoyar\", \"conmigo\", \"comerciante\", \"siempre\", \"residente\", \"permite\", \"primera\", \"olvide\", \"compa\", \"llegara\", \"informate\", \"ser\", \"opcione\", \"superficie\", \"octubre\", \"promover\", \"puede\", \"dio\", \"dema\", \"triste\", \"youtube\", \"participacion\", \"semana\", \"queda\", \"comunidade\", \"perder\", \"doble\", \"primer\", \"base\", \"comentario\", \"hizo\", \"desea\", \"cuernavaca\", \"mask\", \"quede\", \"natural\", \"smile\", \"colmo\", \"chiste\", \"perdi\", \"stay\", \"saber\", \"imagine\", \"tema\", \"short\", \"promedio\", \"game\", \"yemeni\", \"mira\", \"pueblo\", \"color\", \"cliente\", \"obra\", \"debe\", \"madre\", \"importante\", \"pais\", \"estre\", \"construccion\", \"ello\", \"enlace\", \"vive\", \"principal\", \"colore\", \"nuevos\", \"podemo\", \"generacion\", \"precio\", \"pinche\", \"luce\", \"chisme\", \"medico\", \"esenciale\", \"bar\", \"condicione\", \"propone\", \"comun\", \"pasion\", \"ofrecer\", \"brazalete\", \"cdmx\", \"favor\", \"quizas\", \"mexico\", \"normal\", \"persona\", \"beautiful\", \"tenia\", \"interese\", \"plane\", \"flower\", \"proteger\", \"regreso\", \"get\", \"tamaulipa\", \"monterrey\", \"fracaso\", \"imposible\", \"pc\", \"perdio\", \"shit\", \"instaplant\", \"estatal\", \"privada\", \"picture\", \"feel\", \"sentirse\", \"buenas_tarde\", \"reaccion\", \"pasar\", \"mohammad\", \"yemeni\", \"muerte\", \"alimentacion\", \"autoridade\", \"diario\", \"empieza\", \"dinero\", \"fortalecer\", \"empleo\", \"inform\", \"evento\", \"mayor\", \"come\", \"tip\", \"podcast\", \"manos\", \"eleccione\", \"amp\", \"viviendo\", \"chiapa\", \"fotografia\", \"present\", \"comunicacion\", \"guarda\", \"locale\", \"homeoffice\", \"animale\", \"accionnacional\", \"acaban\", \"particular\", \"complice\", \"hospitale\", \"decision\", \"solucione\", \"solucion\", \"ustede\", \"entidade\", \"pre\", \"felicidade\", \"salir\", \"enfermedade\", \"felizmarte\", \"jueve\", \"asunto\", \"mejor\", \"reduce\", \"segun\", \"este\", \"vision\", \"crear\", \"relax\", \"creative\", \"acabo\", \"probabilidad\", \"food\", \"preparando\", \"enorme\", \"promo\", \"miserable\", \"sera\", \"alimento\", \"sntesalud\", \"fase\", \"educacion\", \"transmision\", \"fundamental\", \"medida\", \"amlo\", \"deben\", \"siguiente\", \"use\", \"mexicano\", \"tramite\", \"seccion\", \"querer\", \"sectore\", \"reunione\", \"prefiere\", \"rede\", \"goboax\", \"agente\", \"lidere\", \"repartidore\", \"diagnostico\", \"recomendacion\", \"sirve\", \"cuidense\", \"univdeporte\", \"fire\", \"incluso\", \"secretario\"], \"Freq\": [8735.0, 4533.0, 3347.0, 2627.0, 2136.0, 1735.0, 1491.0, 2122.0, 1392.0, 1401.0, 1085.0, 1200.0, 1170.0, 1274.0, 1083.0, 1055.0, 1414.0, 905.0, 942.0, 876.0, 889.0, 985.0, 814.0, 1187.0, 781.0, 770.0, 745.0, 745.0, 768.0, 745.0, 2122.046142578125, 1413.6717529296875, 1186.926025390625, 816.4652709960938, 674.0982666015625, 589.2130126953125, 582.1964111328125, 563.6563720703125, 548.2638549804688, 545.4376220703125, 540.547607421875, 537.4432373046875, 532.2364501953125, 475.5414123535156, 456.84881591796875, 441.9767761230469, 434.2601318359375, 432.24267578125, 411.2205810546875, 395.9578552246094, 382.620849609375, 361.80401611328125, 354.08251953125, 323.6134033203125, 317.5287170410156, 309.37109375, 307.406494140625, 247.93292236328125, 239.5390167236328, 232.10731506347656, 260.8314208984375, 3346.392333984375, 2627.080078125, 1273.5355224609375, 985.2081298828125, 556.9588012695312, 295.77587890625, 292.865478515625, 250.30662536621094, 220.88267517089844, 205.11013793945312, 184.39126586914062, 170.20619201660156, 166.42738342285156, 165.5449676513672, 151.79733276367188, 146.6874237060547, 132.21011352539062, 125.35092163085938, 124.35418701171875, 119.75271606445312, 112.14567565917969, 110.10971069335938, 106.50178527832031, 101.06700134277344, 98.73607635498047, 92.15471649169922, 90.04411315917969, 87.49134063720703, 85.80760192871094, 74.27130126953125, 79.25222778320312, 138.9744110107422, 8735.1845703125, 452.4381408691406, 417.9324035644531, 264.82342529296875, 271.4394226074219, 221.03192138671875, 216.0076446533203, 213.75546264648438, 202.29330444335938, 148.59332275390625, 124.40715026855469, 121.71224212646484, 113.1797866821289, 105.40838623046875, 105.12942504882812, 101.5800552368164, 96.54796600341797, 95.70144653320312, 94.9186782836914, 90.51081848144531, 87.45867919921875, 86.67501068115234, 83.77546691894531, 79.09021759033203, 77.49095153808594, 77.39391326904297, 74.29662322998047, 71.32443237304688, 71.71382904052734, 67.37640380859375, 4532.42626953125, 432.7411193847656, 375.0255126953125, 320.8620910644531, 310.55584716796875, 289.80950927734375, 242.7687225341797, 206.4268798828125, 191.83740234375, 188.17433166503906, 185.38868713378906, 180.4791259765625, 167.1136474609375, 159.510498046875, 155.6031951904297, 136.5901336669922, 136.13739013671875, 118.20320129394531, 107.69691467285156, 105.0289077758789, 100.44783782958984, 87.6109390258789, 86.13858795166016, 82.92650604248047, 82.26179504394531, 80.86508178710938, 79.19690704345703, 75.0714111328125, 69.00334930419922, 66.5328598022461, 538.781494140625, 336.05584716796875, 298.3688049316406, 293.18817138671875, 273.1470947265625, 269.08612060546875, 266.9820861816406, 242.65476989746094, 225.84933471679688, 190.19027709960938, 186.2930908203125, 184.45947265625, 180.9193878173828, 178.34068298339844, 161.12538146972656, 152.5904541015625, 151.61001586914062, 141.02749633789062, 125.14867401123047, 114.61876678466797, 113.8448715209961, 113.55765533447266, 109.34320831298828, 107.07588195800781, 104.26990509033203, 104.03053283691406, 101.90046691894531, 97.46639251708984, 96.9238052368164, 94.12794494628906, 1400.323486328125, 1199.469970703125, 650.0094604492188, 409.138916015625, 344.40216064453125, 332.0032958984375, 321.4026184082031, 284.3538818359375, 262.60858154296875, 168.66842651367188, 165.6358184814453, 157.3866729736328, 151.1109161376953, 150.3355712890625, 143.91592407226562, 136.10702514648438, 134.46534729003906, 124.11045837402344, 122.77912139892578, 118.0350112915039, 112.73042297363281, 103.71989440917969, 103.55290222167969, 102.7911605834961, 101.09784698486328, 97.74803161621094, 96.51599884033203, 96.13565063476562, 90.95736694335938, 89.8295669555664, 1734.302978515625, 1169.2471923828125, 476.0713806152344, 473.15386962890625, 434.2475280761719, 360.32061767578125, 335.74725341796875, 276.8881530761719, 241.30625915527344, 235.72451782226562, 223.8375244140625, 208.27337646484375, 190.1553192138672, 171.0673828125, 166.4936981201172, 156.19418334960938, 138.87086486816406, 138.86135864257812, 128.3374481201172, 118.15594482421875, 104.38298797607422, 103.52925109863281, 98.44844818115234, 97.17291259765625, 96.01005554199219, 88.76209259033203, 88.72166442871094, 86.71370697021484, 85.23139953613281, 84.9035415649414, 941.725341796875, 671.380859375, 626.428955078125, 588.7841186523438, 362.34527587890625, 301.74188232421875, 290.86328125, 284.6513671875, 265.65643310546875, 253.82801818847656, 239.74281311035156, 195.41973876953125, 194.15650939941406, 180.84107971191406, 174.05857849121094, 170.75645446777344, 158.41456604003906, 154.42166137695312, 153.88803100585938, 137.80221557617188, 136.46827697753906, 134.5524139404297, 118.86821746826172, 109.70677947998047, 100.72109985351562, 100.18220520019531, 95.83586883544922, 95.08238983154297, 92.4789047241211, 88.3599853515625, 142.89955139160156, 888.9762573242188, 768.1944580078125, 578.5565185546875, 419.3898010253906, 375.8067321777344, 362.73834228515625, 358.0054626464844, 350.9335632324219, 339.2894592285156, 273.50518798828125, 257.92352294921875, 254.6575164794922, 221.77017211914062, 183.39669799804688, 164.4556427001953, 141.82058715820312, 137.81304931640625, 119.57905578613281, 115.02909088134766, 114.8349609375, 114.6026382446289, 111.4474868774414, 103.58866119384766, 102.67674255371094, 100.33465576171875, 96.90982818603516, 95.44080352783203, 95.0049819946289, 89.55376434326172, 86.91620635986328, 744.870849609375, 646.6798706054688, 643.5538330078125, 531.0186157226562, 371.7629089355469, 369.84552001953125, 368.1112976074219, 329.8652038574219, 274.4872741699219, 261.9466857910156, 256.3128356933594, 244.7988739013672, 223.517578125, 213.99130249023438, 206.24542236328125, 199.33172607421875, 196.94241333007812, 192.50173950195312, 186.3972930908203, 176.60963439941406, 176.4921112060547, 175.90025329589844, 155.2583465576172, 151.57772827148438, 139.5482635498047, 102.8585433959961, 99.51776123046875, 95.82044219970703, 93.74004364013672, 92.02616882324219, 1054.3673095703125, 638.5888061523438, 574.804443359375, 568.97607421875, 482.4244079589844, 392.2123107910156, 384.4785461425781, 292.87249755859375, 289.3352966308594, 278.3086853027344, 254.6615447998047, 233.06927490234375, 225.76028442382812, 214.98524475097656, 175.03656005859375, 170.6824951171875, 164.80091857910156, 159.92166137695312, 147.4639434814453, 145.20361328125, 143.46817016601562, 135.00408935546875, 128.5440673828125, 115.42595672607422, 110.99543762207031, 104.13848114013672, 94.9629135131836, 94.35587310791016, 80.00711059570312, 79.1348876953125, 1083.07958984375, 662.9669799804688, 597.6422119140625, 515.16796875, 473.8797302246094, 411.5398864746094, 354.3304138183594, 323.4148254394531, 272.0702209472656, 227.5135955810547, 219.51759338378906, 210.81219482421875, 208.1971435546875, 205.2967529296875, 216.9244384765625, 180.43307495117188, 161.29043579101562, 135.7995147705078, 123.42542266845703, 122.14189147949219, 121.26006317138672, 117.07553100585938, 117.00109100341797, 98.26416015625, 95.35150909423828, 84.84427642822266, 73.30614471435547, 68.70651245117188, 68.25459289550781, 61.754058837890625, 103.45231628417969, 559.2427978515625, 463.0254821777344, 458.1280517578125, 376.1443176269531, 369.0306091308594, 293.29449462890625, 288.53094482421875, 261.1506652832031, 253.33392333984375, 245.00645446777344, 235.5657958984375, 235.10540771484375, 214.69158935546875, 213.77566528320312, 193.8424835205078, 169.14971923828125, 167.99246215820312, 165.92320251464844, 164.46080017089844, 153.5561981201172, 151.55943298339844, 135.97854614257812, 118.09780883789062, 111.55270385742188, 107.21720123291016, 99.62338256835938, 93.73558807373047, 92.81367492675781, 90.96900177001953, 83.9616470336914, 813.28759765625, 780.9928588867188, 769.8849487304688, 744.2412109375, 402.8560485839844, 346.9908752441406, 324.3250732421875, 257.3633728027344, 254.06326293945312, 240.97633361816406, 229.83120727539062, 213.5666961669922, 155.8906707763672, 138.22509765625, 136.69970703125, 133.1371612548828, 119.37576293945312, 118.01290130615234, 108.93595123291016, 104.44004821777344, 100.54762268066406, 94.03286743164062, 89.86702728271484, 86.92523956298828, 80.01021575927734, 79.21382141113281, 79.21344757080078, 73.33372497558594, 72.53071594238281, 71.08807373046875, 2135.5244140625, 1391.998046875, 419.0550231933594, 341.7132568359375, 226.34767150878906, 212.4178009033203, 197.93063354492188, 150.59066772460938, 149.11019897460938, 139.30914306640625, 137.51361083984375, 122.2508773803711, 115.22903442382812, 108.817626953125, 108.77054595947266, 102.1960220336914, 93.69829559326172, 88.3282241821289, 87.89042663574219, 86.84733581542969, 82.30178833007812, 74.9723129272461, 67.81819915771484, 65.47337341308594, 59.88374328613281, 59.83280944824219, 59.49650573730469, 57.347267150878906, 56.982086181640625, 56.52452850341797, 73.16670989990234, 79.4041519165039, 59.05182647705078, 648.5856323242188, 572.2277221679688, 332.82037353515625, 305.7701110839844, 299.2413635253906, 249.52577209472656, 238.23300170898438, 219.40618896484375, 194.79403686523438, 191.4838409423828, 166.4732208251953, 161.4325714111328, 158.84649658203125, 143.8909149169922, 141.29843139648438, 133.8795623779297, 130.10714721679688, 128.3317413330078, 126.12732696533203, 121.0392837524414, 114.22715759277344, 112.76954650878906, 112.75973510742188, 103.5301742553711, 102.7637710571289, 101.90853118896484, 99.93277740478516, 84.87600708007812, 84.17094421386719, 79.68820190429688, 93.1551742553711, 1490.5303955078125, 875.95263671875, 670.234375, 462.1221008300781, 272.0641174316406, 268.22601318359375, 243.28897094726562, 230.128173828125, 166.3953399658203, 161.29241943359375, 149.9699249267578, 126.59821319580078, 124.83472442626953, 118.9933853149414, 114.57633972167969, 112.59783172607422, 93.8934097290039, 87.2984390258789, 83.00320434570312, 74.00021362304688, 68.41522979736328, 61.627288818359375, 60.4889030456543, 56.6112174987793, 56.114524841308594, 55.481475830078125, 53.103755950927734, 52.34410858154297, 51.55286407470703, 47.7519645690918, 197.74832153320312, 185.5983428955078, 904.782470703125, 744.7301635742188, 470.7491760253906, 207.7423858642578, 201.4169464111328, 190.6836395263672, 176.6777801513672, 173.23919677734375, 168.8798370361328, 168.05419921875, 155.50962829589844, 143.66481018066406, 143.00010681152344, 140.77098083496094, 136.04241943359375, 130.19287109375, 129.45887756347656, 125.3741226196289, 117.39175415039062, 106.3049087524414, 106.2929458618164, 102.4518051147461, 109.24432373046875, 100.39701843261719, 98.69996643066406, 97.46031951904297, 94.35832977294922, 85.71328735351562, 83.72715759277344, 82.4759750366211, 648.5885009765625, 346.3282775878906, 346.2652282714844, 257.2332458496094, 256.0185852050781, 232.41079711914062, 228.47425842285156, 204.11410522460938, 195.69729614257812, 187.29983520507812, 176.25283813476562, 175.9053192138672, 173.1156768798828, 164.35354614257812, 156.35171508789062, 148.35853576660156, 135.0634002685547, 122.68473815917969, 110.1961669921875, 106.69149017333984, 103.4404525756836, 101.91190338134766, 98.97836303710938, 93.0644760131836, 91.1792221069336, 87.27140045166016, 80.62651062011719, 70.8682632446289, 69.62415313720703, 70.81729888916016, 1084.5377197265625, 389.5340270996094, 312.3337097167969, 254.13174438476562, 202.0465087890625, 177.0429229736328, 155.80734252929688, 153.99542236328125, 153.81092834472656, 102.93717193603516, 99.34550476074219, 94.57111358642578, 94.20479583740234, 85.83614349365234, 85.63993835449219, 83.69701385498047, 78.25263214111328, 76.10230255126953, 74.65564727783203, 73.54368591308594, 69.0752182006836, 68.93063354492188, 65.97154998779297, 64.17535400390625, 61.49736785888672, 59.89658737182617, 56.73946762084961, 54.86426544189453, 53.55351257324219, 53.34169387817383], \"Total\": [8735.0, 4533.0, 3347.0, 2627.0, 2136.0, 1735.0, 1491.0, 2122.0, 1392.0, 1401.0, 1085.0, 1200.0, 1170.0, 1274.0, 1083.0, 1055.0, 1414.0, 905.0, 942.0, 876.0, 889.0, 985.0, 814.0, 1187.0, 781.0, 770.0, 745.0, 745.0, 768.0, 745.0, 2122.830810546875, 1414.4561767578125, 1187.71044921875, 817.249755859375, 674.8827514648438, 589.9974975585938, 582.9808959960938, 564.4408569335938, 549.04833984375, 546.2221069335938, 541.3320922851562, 538.2277221679688, 533.0209350585938, 476.3258361816406, 457.63323974609375, 442.7611999511719, 435.0445556640625, 433.027099609375, 412.0050048828125, 396.7422790527344, 383.4052734375, 362.58843994140625, 354.866943359375, 324.3978271484375, 318.3131408691406, 310.155517578125, 308.19091796875, 248.71737670898438, 240.34422302246094, 232.8917694091797, 299.511962890625, 3347.17919921875, 2627.866943359375, 1274.3218994140625, 985.9945678710938, 557.7452392578125, 296.56231689453125, 293.65191650390625, 251.09307861328125, 221.66912841796875, 205.89659118652344, 185.17771911621094, 170.99264526367188, 167.21383666992188, 166.3314208984375, 152.5837860107422, 147.473876953125, 132.99656677246094, 126.13736724853516, 125.14063262939453, 120.5391616821289, 112.93212127685547, 110.89615631103516, 107.2882308959961, 101.85344696044922, 99.52252197265625, 92.941162109375, 90.83055877685547, 88.27909851074219, 86.59404754638672, 75.05774688720703, 80.13935089111328, 144.2401580810547, 8735.9677734375, 453.2220764160156, 418.7163391113281, 265.60736083984375, 272.3036193847656, 221.8158721923828, 216.79159545898438, 214.53941345214844, 203.07725524902344, 149.3772735595703, 125.19110107421875, 122.4961929321289, 113.9637451171875, 106.19233703613281, 105.91337585449219, 102.36400604248047, 97.33191680908203, 96.48539733886719, 95.70262908935547, 91.29476928710938, 88.24263000488281, 87.4589614868164, 84.55941772460938, 79.874267578125, 78.27499389648438, 78.17786407470703, 75.08057403564453, 72.10838317871094, 72.5221939086914, 68.16035461425781, 4533.212890625, 433.5286560058594, 375.81304931640625, 321.6496276855469, 311.3433837890625, 290.5970458984375, 243.5562744140625, 207.2144317626953, 192.6249542236328, 188.96188354492188, 186.17623901367188, 181.2666778564453, 167.9011993408203, 160.2980499267578, 156.3907470703125, 137.377685546875, 136.92494201660156, 118.99075317382812, 108.49563598632812, 105.81645965576172, 101.23538970947266, 88.39849090576172, 86.92613983154297, 83.71405792236328, 83.04934692382812, 81.65263366699219, 79.98445892333984, 75.85896301269531, 69.79215240478516, 67.3204116821289, 539.5620727539062, 336.8364562988281, 299.1494140625, 293.9687805175781, 273.9277038574219, 269.8667297363281, 267.7626953125, 243.4353790283203, 226.62994384765625, 190.97088623046875, 187.07369995117188, 185.24008178710938, 181.6999969482422, 179.1212921142578, 161.90599060058594, 153.37106323242188, 152.390625, 141.80810546875, 125.92929077148438, 115.39938354492188, 114.62548828125, 114.33827209472656, 110.12382507324219, 107.85649871826172, 105.05052185058594, 104.81114959716797, 102.68108367919922, 98.24700927734375, 97.70442199707031, 94.90856170654297, 1401.1092529296875, 1200.2557373046875, 650.7952880859375, 409.92474365234375, 345.18798828125, 332.7893371582031, 322.1884460449219, 285.13970947265625, 263.3944091796875, 169.4542694091797, 166.42166137695312, 158.17251586914062, 151.89675903320312, 151.1214141845703, 144.70176696777344, 136.8928680419922, 135.25119018554688, 124.89630126953125, 123.5649642944336, 118.82085418701172, 113.51626586914062, 104.5057373046875, 104.3387451171875, 103.5770034790039, 101.8836898803711, 98.53387451171875, 97.30184173583984, 96.92149353027344, 91.74320983886719, 90.61592864990234, 1735.0888671875, 1170.0330810546875, 476.8573303222656, 473.9398193359375, 435.0334777832031, 361.1065673828125, 336.533203125, 277.6741027832031, 242.09219360351562, 236.5104522705078, 224.6234588623047, 209.05931091308594, 190.94125366210938, 171.8533172607422, 167.27963256835938, 156.98011779785156, 139.65679931640625, 139.6472930908203, 129.12338256835938, 118.94188690185547, 105.16893005371094, 104.31519317626953, 99.23439025878906, 97.95885467529297, 96.7959976196289, 89.54803466796875, 89.50840759277344, 87.49964904785156, 86.01734161376953, 85.68948364257812, 942.5104370117188, 672.1659545898438, 627.2140502929688, 589.583984375, 363.1304626464844, 302.5270690917969, 291.6484680175781, 285.4365539550781, 266.4416198730469, 254.61318969726562, 240.52798461914062, 196.2049102783203, 194.94168090820312, 181.6262664794922, 174.84375, 171.5416259765625, 159.19973754882812, 155.2068328857422, 154.67320251464844, 138.58738708496094, 137.25631713867188, 135.33758544921875, 119.6534194946289, 110.4929428100586, 101.50628662109375, 100.97035217285156, 96.62105560302734, 95.8675765991211, 93.26409149169922, 89.14517211914062, 451.1002197265625, 889.7590942382812, 768.977294921875, 579.33935546875, 420.1726989746094, 376.5896301269531, 363.521240234375, 358.7883605957031, 351.7164611816406, 340.0723571777344, 274.2881774902344, 258.7064208984375, 255.44039916992188, 222.5530548095703, 184.17958068847656, 165.238525390625, 142.6034698486328, 138.59593200683594, 120.36195373535156, 115.8119888305664, 115.61791229248047, 115.38553619384766, 112.23038482666016, 104.3715591430664, 103.45964050292969, 101.1175537109375, 97.6927261352539, 96.22370147705078, 95.78787994384766, 90.33666229248047, 87.69910430908203, 745.6553955078125, 647.4644165039062, 644.33837890625, 531.8031616210938, 372.5475158691406, 370.630126953125, 368.8959045410156, 330.6498107910156, 275.2718811035156, 262.7312927246094, 257.0974426269531, 245.5834503173828, 224.30215454101562, 214.77587890625, 207.02999877929688, 200.11630249023438, 197.72698974609375, 193.28631591796875, 187.18186950683594, 177.3942108154297, 177.2766876220703, 176.68482971191406, 156.0429229736328, 152.3623046875, 140.3328399658203, 103.64313507080078, 100.30235290527344, 96.60503387451172, 94.5246353149414, 92.81076049804688, 1055.1514892578125, 639.373046875, 575.5886840820312, 569.7603149414062, 483.20867919921875, 392.99658203125, 385.2628173828125, 293.6567687988281, 290.11956787109375, 279.09295654296875, 255.44581604003906, 233.85354614257812, 226.5445556640625, 215.76951599121094, 175.82083129882812, 171.46676635742188, 165.58518981933594, 160.7059326171875, 148.2482147216797, 145.98788452148438, 144.25244140625, 135.78836059570312, 129.32833862304688, 116.21023559570312, 111.77971649169922, 104.92276000976562, 95.74723815917969, 95.14015197753906, 80.79138946533203, 79.9191665649414, 1083.8629150390625, 663.7503051757812, 598.425537109375, 515.9512939453125, 474.6631164550781, 412.3232727050781, 355.1138000488281, 324.1982116699219, 272.8536071777344, 228.2969970703125, 220.30099487304688, 211.59559631347656, 208.9805450439453, 206.0801544189453, 217.8357696533203, 181.2164764404297, 162.07383728027344, 136.58291625976562, 124.20882415771484, 122.92529296875, 122.04346466064453, 117.85893249511719, 117.78449249267578, 99.04756164550781, 96.1349105834961, 85.62767791748047, 74.08954620361328, 69.48991394042969, 69.03799438476562, 62.537452697753906, 112.71575164794922, 560.02294921875, 463.8056335449219, 458.908203125, 376.9244689941406, 369.8107604980469, 294.07464599609375, 289.31109619140625, 261.9308166503906, 254.11412048339844, 245.78665161132812, 236.3459930419922, 235.88560485839844, 215.47178649902344, 214.5558624267578, 194.6226806640625, 169.92991638183594, 168.7726593017578, 166.70339965820312, 165.24099731445312, 154.33639526367188, 152.33963012695312, 136.7587432861328, 118.87800598144531, 112.33290100097656, 107.99739837646484, 100.40357971191406, 94.51578521728516, 93.5938720703125, 91.74919891357422, 84.7418441772461, 814.0731201171875, 781.7783813476562, 770.6704711914062, 745.0267333984375, 403.6416015625, 347.77642822265625, 325.1106262207031, 258.14892578125, 254.8488311767578, 241.76190185546875, 230.6167755126953, 214.35226440429688, 156.67623901367188, 139.0106658935547, 137.4852752685547, 133.9227294921875, 120.16133117675781, 118.79846954345703, 109.72151947021484, 105.22561645507812, 101.33319091796875, 94.81843566894531, 90.65259552001953, 87.71080780029297, 80.79578399658203, 79.9993896484375, 79.99901580810547, 74.11929321289062, 73.3162841796875, 71.87371826171875, 2136.3095703125, 1392.7830810546875, 419.8401184082031, 342.4983215332031, 227.1327667236328, 213.20289611816406, 198.71572875976562, 151.3757781982422, 149.89529418945312, 140.09423828125, 138.2987060546875, 123.03597259521484, 116.01412963867188, 109.60272216796875, 109.5556411743164, 102.98760986328125, 94.48339080810547, 89.11331939697266, 88.67552185058594, 87.63243103027344, 83.08688354492188, 75.75740814208984, 68.6032943725586, 66.25846862792969, 60.66883850097656, 60.61790466308594, 60.28160095214844, 58.132362365722656, 57.767181396484375, 57.30962371826172, 76.88151550292969, 1105.9644775390625, 94.61392974853516, 649.3692626953125, 573.0113525390625, 333.60394287109375, 306.5536804199219, 300.0249328613281, 250.3093719482422, 239.0166015625, 220.18978881835938, 195.57763671875, 192.26744079589844, 167.25682067871094, 162.21617126464844, 159.63009643554688, 144.6745147705078, 142.08203125, 134.6631622314453, 130.8907470703125, 129.11534118652344, 126.91091918945312, 121.8228759765625, 115.01074981689453, 113.55313873291016, 113.54332733154297, 104.31376647949219, 103.54736328125, 102.69212341308594, 100.71636962890625, 85.65959930419922, 84.95453643798828, 80.47181701660156, 225.2484893798828, 1491.3153076171875, 876.7376098632812, 671.0452270507812, 462.9070129394531, 272.8490295410156, 269.01092529296875, 244.07391357421875, 230.91311645507812, 167.18028259277344, 162.07736206054688, 150.75486755371094, 127.38314819335938, 125.61965942382812, 119.7783203125, 115.36127471923828, 113.38276672363281, 94.6783447265625, 88.0833740234375, 83.78813934326172, 74.78514862060547, 69.20016479492188, 62.4122314453125, 61.27384567260742, 57.39616012573242, 56.900909423828125, 56.26641845703125, 53.88869857788086, 53.129051208496094, 52.337806701660156, 48.53690719604492, 1164.463134765625, 1105.9644775390625, 905.5657348632812, 745.513427734375, 471.5323791503906, 208.5255889892578, 202.2001495361328, 191.4668426513672, 177.4609832763672, 174.02239990234375, 169.6630401611328, 168.83740234375, 156.29283142089844, 144.44801330566406, 143.78330993652344, 141.55418395996094, 136.82562255859375, 130.97607421875, 130.24208068847656, 126.15733337402344, 118.17496490478516, 107.08811950683594, 107.07615661621094, 103.23501586914062, 110.08329772949219, 101.18022918701172, 99.4831771850586, 98.2435302734375, 95.14154052734375, 86.49649810791016, 84.51036834716797, 83.25918579101562, 649.37109375, 347.11090087890625, 347.0478515625, 258.015869140625, 256.80120849609375, 233.1934051513672, 229.25686645507812, 204.89671325683594, 196.4799041748047, 188.0824432373047, 177.0354461669922, 176.68792724609375, 173.89828491210938, 165.1361541748047, 157.1343231201172, 149.14114379882812, 135.84600830078125, 123.46735382080078, 110.9787826538086, 107.47410583496094, 104.22306823730469, 102.69451904296875, 99.76097869873047, 93.84709167480469, 91.96183776855469, 88.05401611328125, 81.40927124023438, 71.65087890625, 70.40676879882812, 71.65074920654297, 1085.3240966796875, 390.3204040527344, 313.1200866699219, 254.91812133789062, 202.8328857421875, 177.8292999267578, 156.59371948242188, 154.78179931640625, 154.59730529785156, 103.72354125976562, 100.1321029663086, 95.35748291015625, 94.99116516113281, 86.62251281738281, 86.42630767822266, 84.48338317871094, 79.03900146484375, 76.888671875, 75.44202423095703, 74.3300552368164, 69.86158752441406, 69.71700286865234, 66.75791931152344, 64.96172332763672, 62.28374099731445, 60.682960510253906, 57.525840759277344, 55.65066909790039, 54.33988571166992, 54.12806701660156], \"Category\": [\"Default\", \"Default\", \"Default\", \"Default\", \"Default\", \"Default\", \"Default\", \"Default\", \"Default\", \"Default\", \"Default\", \"Default\", \"Default\", \"Default\", \"Default\", \"Default\", \"Default\", \"Default\", \"Default\", \"Default\", \"Default\", \"Default\", \"Default\", \"Default\", \"Default\", \"Default\", \"Default\", \"Default\", \"Default\", \"Default\", \"Topic1\", \"Topic1\", \"Topic1\", \"Topic1\", \"Topic1\", \"Topic1\", \"Topic1\", \"Topic1\", \"Topic1\", \"Topic1\", \"Topic1\", \"Topic1\", \"Topic1\", \"Topic1\", \"Topic1\", \"Topic1\", \"Topic1\", \"Topic1\", \"Topic1\", \"Topic1\", \"Topic1\", \"Topic1\", \"Topic1\", \"Topic1\", \"Topic1\", \"Topic1\", \"Topic1\", \"Topic1\", \"Topic1\", \"Topic1\", \"Topic1\", \"Topic2\", \"Topic2\", \"Topic2\", \"Topic2\", \"Topic2\", \"Topic2\", \"Topic2\", \"Topic2\", \"Topic2\", \"Topic2\", \"Topic2\", \"Topic2\", \"Topic2\", \"Topic2\", \"Topic2\", \"Topic2\", \"Topic2\", \"Topic2\", \"Topic2\", \"Topic2\", \"Topic2\", \"Topic2\", \"Topic2\", \"Topic2\", \"Topic2\", \"Topic2\", \"Topic2\", \"Topic2\", \"Topic2\", \"Topic2\", \"Topic2\", \"Topic2\", \"Topic3\", \"Topic3\", \"Topic3\", \"Topic3\", \"Topic3\", \"Topic3\", \"Topic3\", \"Topic3\", \"Topic3\", \"Topic3\", \"Topic3\", \"Topic3\", \"Topic3\", \"Topic3\", \"Topic3\", \"Topic3\", \"Topic3\", \"Topic3\", \"Topic3\", \"Topic3\", \"Topic3\", \"Topic3\", \"Topic3\", \"Topic3\", \"Topic3\", \"Topic3\", \"Topic3\", \"Topic3\", \"Topic3\", \"Topic3\", \"Topic4\", \"Topic4\", \"Topic4\", \"Topic4\", \"Topic4\", \"Topic4\", \"Topic4\", \"Topic4\", \"Topic4\", \"Topic4\", \"Topic4\", \"Topic4\", \"Topic4\", \"Topic4\", \"Topic4\", \"Topic4\", \"Topic4\", \"Topic4\", \"Topic4\", \"Topic4\", \"Topic4\", \"Topic4\", \"Topic4\", \"Topic4\", \"Topic4\", \"Topic4\", \"Topic4\", \"Topic4\", \"Topic4\", \"Topic4\", \"Topic5\", \"Topic5\", \"Topic5\", \"Topic5\", \"Topic5\", \"Topic5\", \"Topic5\", \"Topic5\", \"Topic5\", \"Topic5\", \"Topic5\", \"Topic5\", \"Topic5\", \"Topic5\", \"Topic5\", \"Topic5\", \"Topic5\", \"Topic5\", \"Topic5\", \"Topic5\", \"Topic5\", \"Topic5\", \"Topic5\", \"Topic5\", \"Topic5\", \"Topic5\", \"Topic5\", \"Topic5\", \"Topic5\", \"Topic5\", \"Topic6\", \"Topic6\", \"Topic6\", \"Topic6\", \"Topic6\", \"Topic6\", \"Topic6\", \"Topic6\", \"Topic6\", \"Topic6\", \"Topic6\", \"Topic6\", \"Topic6\", \"Topic6\", \"Topic6\", \"Topic6\", \"Topic6\", \"Topic6\", \"Topic6\", \"Topic6\", \"Topic6\", \"Topic6\", \"Topic6\", \"Topic6\", \"Topic6\", \"Topic6\", \"Topic6\", \"Topic6\", \"Topic6\", \"Topic6\", \"Topic7\", \"Topic7\", \"Topic7\", \"Topic7\", \"Topic7\", \"Topic7\", \"Topic7\", \"Topic7\", \"Topic7\", \"Topic7\", \"Topic7\", \"Topic7\", \"Topic7\", \"Topic7\", \"Topic7\", \"Topic7\", \"Topic7\", \"Topic7\", \"Topic7\", \"Topic7\", \"Topic7\", \"Topic7\", \"Topic7\", \"Topic7\", \"Topic7\", \"Topic7\", \"Topic7\", \"Topic7\", \"Topic7\", \"Topic7\", \"Topic8\", \"Topic8\", \"Topic8\", \"Topic8\", \"Topic8\", \"Topic8\", \"Topic8\", \"Topic8\", \"Topic8\", \"Topic8\", \"Topic8\", \"Topic8\", \"Topic8\", \"Topic8\", \"Topic8\", \"Topic8\", \"Topic8\", \"Topic8\", \"Topic8\", \"Topic8\", \"Topic8\", \"Topic8\", \"Topic8\", \"Topic8\", \"Topic8\", \"Topic8\", \"Topic8\", \"Topic8\", \"Topic8\", \"Topic8\", \"Topic8\", \"Topic9\", \"Topic9\", \"Topic9\", \"Topic9\", \"Topic9\", \"Topic9\", \"Topic9\", \"Topic9\", \"Topic9\", \"Topic9\", \"Topic9\", \"Topic9\", \"Topic9\", \"Topic9\", \"Topic9\", \"Topic9\", \"Topic9\", \"Topic9\", \"Topic9\", \"Topic9\", \"Topic9\", \"Topic9\", \"Topic9\", \"Topic9\", \"Topic9\", \"Topic9\", \"Topic9\", \"Topic9\", \"Topic9\", \"Topic9\", \"Topic10\", \"Topic10\", \"Topic10\", \"Topic10\", \"Topic10\", \"Topic10\", \"Topic10\", \"Topic10\", \"Topic10\", \"Topic10\", \"Topic10\", \"Topic10\", \"Topic10\", \"Topic10\", \"Topic10\", \"Topic10\", \"Topic10\", \"Topic10\", \"Topic10\", \"Topic10\", \"Topic10\", \"Topic10\", \"Topic10\", \"Topic10\", \"Topic10\", \"Topic10\", \"Topic10\", \"Topic10\", \"Topic10\", \"Topic10\", \"Topic11\", \"Topic11\", \"Topic11\", \"Topic11\", \"Topic11\", \"Topic11\", \"Topic11\", \"Topic11\", \"Topic11\", \"Topic11\", \"Topic11\", \"Topic11\", \"Topic11\", \"Topic11\", \"Topic11\", \"Topic11\", \"Topic11\", \"Topic11\", \"Topic11\", \"Topic11\", \"Topic11\", \"Topic11\", \"Topic11\", \"Topic11\", \"Topic11\", \"Topic11\", \"Topic11\", \"Topic11\", \"Topic11\", \"Topic11\", \"Topic12\", \"Topic12\", \"Topic12\", \"Topic12\", \"Topic12\", \"Topic12\", \"Topic12\", \"Topic12\", \"Topic12\", \"Topic12\", \"Topic12\", \"Topic12\", \"Topic12\", \"Topic12\", \"Topic12\", \"Topic12\", \"Topic12\", \"Topic12\", \"Topic12\", \"Topic12\", \"Topic12\", \"Topic12\", \"Topic12\", \"Topic12\", \"Topic12\", \"Topic12\", \"Topic12\", \"Topic12\", \"Topic12\", \"Topic12\", \"Topic12\", \"Topic13\", \"Topic13\", \"Topic13\", \"Topic13\", \"Topic13\", \"Topic13\", \"Topic13\", \"Topic13\", \"Topic13\", \"Topic13\", \"Topic13\", \"Topic13\", \"Topic13\", \"Topic13\", \"Topic13\", \"Topic13\", \"Topic13\", \"Topic13\", \"Topic13\", \"Topic13\", \"Topic13\", \"Topic13\", \"Topic13\", \"Topic13\", \"Topic13\", \"Topic13\", \"Topic13\", \"Topic13\", \"Topic13\", \"Topic13\", \"Topic14\", \"Topic14\", \"Topic14\", \"Topic14\", \"Topic14\", \"Topic14\", \"Topic14\", \"Topic14\", \"Topic14\", \"Topic14\", \"Topic14\", \"Topic14\", \"Topic14\", \"Topic14\", \"Topic14\", \"Topic14\", \"Topic14\", \"Topic14\", \"Topic14\", \"Topic14\", \"Topic14\", \"Topic14\", \"Topic14\", \"Topic14\", \"Topic14\", \"Topic14\", \"Topic14\", \"Topic14\", \"Topic14\", \"Topic14\", \"Topic15\", \"Topic15\", \"Topic15\", \"Topic15\", \"Topic15\", \"Topic15\", \"Topic15\", \"Topic15\", \"Topic15\", \"Topic15\", \"Topic15\", \"Topic15\", \"Topic15\", \"Topic15\", \"Topic15\", \"Topic15\", \"Topic15\", \"Topic15\", \"Topic15\", \"Topic15\", \"Topic15\", \"Topic15\", \"Topic15\", \"Topic15\", \"Topic15\", \"Topic15\", \"Topic15\", \"Topic15\", \"Topic15\", \"Topic15\", \"Topic15\", \"Topic15\", \"Topic15\", \"Topic16\", \"Topic16\", \"Topic16\", \"Topic16\", \"Topic16\", \"Topic16\", \"Topic16\", \"Topic16\", \"Topic16\", \"Topic16\", \"Topic16\", \"Topic16\", \"Topic16\", \"Topic16\", \"Topic16\", \"Topic16\", \"Topic16\", \"Topic16\", \"Topic16\", \"Topic16\", \"Topic16\", \"Topic16\", \"Topic16\", \"Topic16\", \"Topic16\", \"Topic16\", \"Topic16\", \"Topic16\", \"Topic16\", \"Topic16\", \"Topic16\", \"Topic17\", \"Topic17\", \"Topic17\", \"Topic17\", \"Topic17\", \"Topic17\", \"Topic17\", \"Topic17\", \"Topic17\", \"Topic17\", \"Topic17\", \"Topic17\", \"Topic17\", \"Topic17\", \"Topic17\", \"Topic17\", \"Topic17\", \"Topic17\", \"Topic17\", \"Topic17\", \"Topic17\", \"Topic17\", \"Topic17\", \"Topic17\", \"Topic17\", \"Topic17\", \"Topic17\", \"Topic17\", \"Topic17\", \"Topic17\", \"Topic17\", \"Topic17\", \"Topic18\", \"Topic18\", \"Topic18\", \"Topic18\", \"Topic18\", \"Topic18\", \"Topic18\", \"Topic18\", \"Topic18\", \"Topic18\", \"Topic18\", \"Topic18\", \"Topic18\", \"Topic18\", \"Topic18\", \"Topic18\", \"Topic18\", \"Topic18\", \"Topic18\", \"Topic18\", \"Topic18\", \"Topic18\", \"Topic18\", \"Topic18\", \"Topic18\", \"Topic18\", \"Topic18\", \"Topic18\", \"Topic18\", \"Topic18\", \"Topic19\", \"Topic19\", \"Topic19\", \"Topic19\", \"Topic19\", \"Topic19\", \"Topic19\", \"Topic19\", \"Topic19\", \"Topic19\", \"Topic19\", \"Topic19\", \"Topic19\", \"Topic19\", \"Topic19\", \"Topic19\", \"Topic19\", \"Topic19\", \"Topic19\", \"Topic19\", \"Topic19\", \"Topic19\", \"Topic19\", \"Topic19\", \"Topic19\", \"Topic19\", \"Topic19\", \"Topic19\", \"Topic19\", \"Topic19\", \"Topic20\", \"Topic20\", \"Topic20\", \"Topic20\", \"Topic20\", \"Topic20\", \"Topic20\", \"Topic20\", \"Topic20\", \"Topic20\", \"Topic20\", \"Topic20\", \"Topic20\", \"Topic20\", \"Topic20\", \"Topic20\", \"Topic20\", \"Topic20\", \"Topic20\", \"Topic20\", \"Topic20\", \"Topic20\", \"Topic20\", \"Topic20\", \"Topic20\", \"Topic20\", \"Topic20\", \"Topic20\", \"Topic20\", \"Topic20\"], \"logprob\": [30.0, 29.0, 28.0, 27.0, 26.0, 25.0, 24.0, 23.0, 22.0, 21.0, 20.0, 19.0, 18.0, 17.0, 16.0, 15.0, 14.0, 13.0, 12.0, 11.0, 10.0, 9.0, 8.0, 7.0, 6.0, 5.0, 4.0, 3.0, 2.0, 1.0, -2.8696999549865723, -3.275899887084961, -3.450700044631958, -3.8248000144958496, -4.01639986038208, -4.151000022888184, -4.163000106811523, -4.195400238037109, -4.2230000495910645, -4.2281999588012695, -4.237199783325195, -4.243000030517578, -4.252699851989746, -4.365300178527832, -4.405399799346924, -4.438499927520752, -4.456200122833252, -4.4608001708984375, -4.510700225830078, -4.548500061035156, -4.582799911499023, -4.638700008392334, -4.660299777984619, -4.750199794769287, -4.769199848175049, -4.795300006866455, -4.801599979400635, -5.016600131988525, -5.05109977722168, -5.082600116729736, -4.96589994430542, -1.8638999462127686, -2.1059999465942383, -2.8299999237060547, -3.086699962615967, -3.657099962234497, -4.289999961853027, -4.299900054931641, -4.456900119781494, -4.581900119781494, -4.656000137329102, -4.762499809265137, -4.842599868774414, -4.864999771118164, -4.870299816131592, -4.956999778747559, -4.991300106048584, -5.095200061798096, -5.148499965667725, -5.156400203704834, -5.194200038909912, -5.259799957275391, -5.27810001373291, -5.311399936676025, -5.363800048828125, -5.3871002197265625, -5.456099987030029, -5.479300022125244, -5.507999897003174, -5.527500152587891, -5.671899795532227, -5.606900215148926, -5.045300006866455, -0.8522999882698059, -3.8127999305725098, -3.8921000957489014, -4.348400115966797, -4.323699951171875, -4.529099941253662, -4.55210018157959, -4.562600135803223, -4.617700099945068, -4.926199913024902, -5.103899955749512, -5.125800132751465, -5.198500156402588, -5.269599914550781, -5.272299766540527, -5.306600093841553, -5.357399940490723, -5.366199970245361, -5.3744001388549805, -5.421999931335449, -5.456299781799316, -5.4653000831604, -5.499300003051758, -5.5569000244140625, -5.577300071716309, -5.578499794006348, -5.6194000244140625, -5.660200119018555, -5.654799938201904, -5.717199802398682, -1.2971999645233154, -3.6461000442504883, -3.7892000675201416, -3.945199966430664, -3.977799892425537, -4.046999931335449, -4.224100112915039, -4.386300086975098, -4.459499835968018, -4.478799819946289, -4.49370002746582, -4.520599842071533, -4.597499847412109, -4.644100189208984, -4.668900012969971, -4.799200057983398, -4.802499771118164, -4.94379997253418, -5.036900043487549, -5.061999797821045, -5.106599807739258, -5.243299961090088, -5.260200023651123, -5.2982001304626465, -5.306300163269043, -5.323400020599365, -5.344299793243408, -5.397799968719482, -5.48199987411499, -5.518499851226807, -3.4082000255584717, -3.880199909210205, -3.9990999698638916, -4.01669979095459, -4.087500095367432, -4.102399826049805, -4.110300064086914, -4.2058000564575195, -4.277599811553955, -4.449399948120117, -4.470200061798096, -4.480000019073486, -4.4994001388549805, -4.513800144195557, -4.615300178527832, -4.6697001457214355, -4.676199913024902, -4.748499870300293, -4.868000030517578, -4.955900192260742, -4.962600231170654, -4.965199947357178, -5.002999782562256, -5.023900032043457, -5.05049991607666, -5.052800178527832, -5.073500156402588, -5.118000030517578, -5.123499870300293, -5.1528000831604, -2.4254000186920166, -2.580199956893921, -3.1928999423980713, -3.6558001041412354, -3.828000068664551, -3.8647000789642334, -3.897200107574463, -4.019599914550781, -4.0991997718811035, -4.541900157928467, -4.560100078582764, -4.611100196838379, -4.651800155639648, -4.6570000648498535, -4.7006001472473145, -4.756400108337402, -4.768499851226807, -4.848700046539307, -4.859499931335449, -4.898900032043457, -4.944799900054932, -5.028200149536133, -5.029799938201904, -5.037099838256836, -5.053800106048584, -5.087500095367432, -5.100100040435791, -5.104100227355957, -5.1595001220703125, -5.171899795532227, -2.202899932861328, -2.597100019454956, -3.495699882507324, -3.501800060272217, -3.587599992752075, -3.7743000984191895, -3.844899892807007, -4.037600040435791, -4.17519998550415, -4.198599815368652, -4.25029993057251, -4.322400093078613, -4.413400173187256, -4.519199848175049, -4.546299934387207, -4.610199928283691, -4.727700233459473, -4.727799892425537, -4.806600093841553, -4.889200210571289, -5.013199806213379, -5.021399974822998, -5.071700096130371, -5.084799766540527, -5.096799850463867, -5.175300121307373, -5.1757001876831055, -5.198599815368652, -5.21589994430542, -5.219699859619141, -2.789400100708008, -3.1277999877929688, -3.1970999240875244, -3.2590999603271484, -3.744499921798706, -3.9275999069213867, -3.9642999172210693, -3.9858999252319336, -4.054900169372559, -4.100500106811523, -4.157599925994873, -4.361999988555908, -4.368500232696533, -4.439499855041504, -4.477700233459473, -4.4969000816345215, -4.571899890899658, -4.597400188446045, -4.600900173187256, -4.711299896240234, -4.7210001945495605, -4.735199928283691, -4.859099864959717, -4.939300060272217, -5.024799823760986, -5.030099868774414, -5.07450008392334, -5.082399845123291, -5.110199928283691, -5.155700206756592, -4.675000190734863, -2.8208000659942627, -2.966900110244751, -3.2504000663757324, -3.5720999240875244, -3.68179988861084, -3.7172000408172607, -3.7304000854492188, -3.7502999305725098, -3.78410005569458, -3.9995999336242676, -4.058300018310547, -4.071000099182129, -4.2093000411987305, -4.3993000984191895, -4.508299827575684, -4.656400203704834, -4.684999942779541, -4.826900005340576, -4.865699768066406, -4.867400169372559, -4.8694000244140625, -4.89739990234375, -4.9704999923706055, -4.979300022125244, -5.002399921417236, -5.037099838256836, -5.0524001121521, -5.057000160217285, -5.116099834442139, -5.145999908447266, -2.994499921798706, -3.1357998847961426, -3.140700101852417, -3.332900047302246, -3.6893999576568604, -3.6946001052856445, -3.6993000507354736, -3.809000015258789, -3.992799997329712, -4.0395002365112305, -4.061299800872803, -4.1072001457214355, -4.198200225830078, -4.241700172424316, -4.278600215911865, -4.312699794769287, -4.32480001449585, -4.347599983215332, -4.379799842834473, -4.433700084686279, -4.4344000816345215, -4.437699794769287, -4.562600135803223, -4.586599826812744, -4.669300079345703, -4.974299907684326, -5.007299900054932, -5.045199871063232, -5.0671000480651855, -5.085599899291992, -2.620800018310547, -3.1222000122070312, -3.227400064468384, -3.237600088119507, -3.402600049972534, -3.609600067138672, -3.6296000480651855, -3.901700019836426, -3.9138998985290527, -3.952699899673462, -4.041500091552734, -4.130099773406982, -4.1620001792907715, -4.210899829864502, -4.416500091552734, -4.4415998458862305, -4.4766998291015625, -4.506800174713135, -4.587900161743164, -4.603300094604492, -4.615300178527832, -4.67609977722168, -4.725200176239014, -4.832799911499023, -4.872000217437744, -4.935699939727783, -5.0279998779296875, -5.03439998626709, -5.1992998123168945, -5.210299968719482, -2.5826001167297363, -3.073499917984009, -3.1772000789642334, -3.325700044631958, -3.4091999530792236, -3.550299882888794, -3.700000047683716, -3.791300058364868, -3.964099884033203, -4.14300012588501, -4.178800106048584, -4.219200134277344, -4.2316999435424805, -4.245699882507324, -4.1905999183654785, -4.374800205230713, -4.486999988555908, -4.658999919891357, -4.7546000480651855, -4.764999866485596, -4.772299766540527, -4.807400226593018, -4.808000087738037, -4.982500076293945, -5.012599945068359, -5.12939977645874, -5.2754998207092285, -5.3403000831604, -5.34689998626709, -5.447000026702881, -4.931099891662598, -3.183000087738037, -3.3719000816345215, -3.382499933242798, -3.579699993133545, -3.59879994392395, -3.8285000324249268, -3.8447999954223633, -3.944499969482422, -3.974900007247925, -4.008299827575684, -4.047599792480469, -4.049600124359131, -4.140399932861328, -4.144700050354004, -4.242599964141846, -4.378799915313721, -4.385700225830078, -4.398099899291992, -4.4070000648498535, -4.475599765777588, -4.488699913024902, -4.597099781036377, -4.738100051879883, -4.795100212097168, -4.834799766540527, -4.908199787139893, -4.969200134277344, -4.979000091552734, -4.999100208282471, -5.0792999267578125, -2.798799991607666, -2.8392999172210693, -2.853600025177002, -2.887500047683716, -3.501300096511841, -3.650599956512451, -3.718100070953369, -3.949399948120117, -3.9623000621795654, -4.015200138092041, -4.0625, -4.135900020599365, -4.450699806213379, -4.571000099182129, -4.582099914550781, -4.608500003814697, -4.717599868774414, -4.729100227355957, -4.809100151062012, -4.851200103759766, -4.889200210571289, -4.956200122833252, -5.001500129699707, -5.034800052642822, -5.117700099945068, -5.127699851989746, -5.127699851989746, -5.204800128936768, -5.215799808502197, -5.235899925231934, -1.8223999738693237, -2.2504000663757324, -3.450900077819824, -3.654900074005127, -4.066800117492676, -4.130300045013428, -4.200900077819824, -4.474299907684326, -4.4842000007629395, -4.552199840545654, -4.565100193023682, -4.682799816131592, -4.7418999671936035, -4.799200057983398, -4.799600124359131, -4.861999988555908, -4.948800086975098, -5.007800102233887, -5.012800216674805, -5.024700164794922, -5.078499794006348, -5.1717000007629395, -5.271999835968018, -5.307199954986572, -5.396500110626221, -5.397299766540527, -5.402900218963623, -5.439700126647949, -5.446100234985352, -5.45419979095459, -5.196100234985352, -5.114299774169922, -5.410399913787842, -3.0023000240325928, -3.1275999546051025, -3.6695001125335693, -3.754300117492676, -3.775899887084961, -3.9576001167297363, -4.003900051116943, -4.08620023727417, -4.2052001953125, -4.222300052642822, -4.362299919128418, -4.393099784851074, -4.409200191497803, -4.5081000328063965, -4.526299953460693, -4.5802001953125, -4.608799934387207, -4.622499942779541, -4.639800071716309, -4.681000232696533, -4.738999843597412, -4.751800060272217, -4.7519001960754395, -4.837299823760986, -4.844699859619141, -4.853099822998047, -4.872600078582764, -5.035999774932861, -5.044300079345703, -5.098999977111816, -4.94290018081665, -2.144200086593628, -2.6756999492645264, -2.9433999061584473, -3.315200090408325, -3.8450000286102295, -3.8592000007629395, -3.9567999839782715, -4.012400150299072, -4.336699962615967, -4.367800235748291, -4.4405999183654785, -4.610000133514404, -4.624100208282471, -4.671999931335449, -4.709799766540527, -4.727200031280518, -4.908899784088135, -4.9816999435424805, -5.032199859619141, -5.146999835968018, -5.225500106811523, -5.329899787902832, -5.348599910736084, -5.41480016708374, -5.423699855804443, -5.434999942779541, -5.478799819946289, -5.493199825286865, -5.508399963378906, -5.585000038146973, -4.164100170135498, -4.227499961853027, -2.631200075149536, -2.825900077819824, -3.284600019454956, -4.10260009765625, -4.133600234985352, -4.188300132751465, -4.264599800109863, -4.284299850463867, -4.309700012207031, -4.314599990844727, -4.392199993133545, -4.471499919891357, -4.476099967956543, -4.491799831390381, -4.526000022888184, -4.569900035858154, -4.5756001472473145, -4.607600212097168, -4.673399925231934, -4.772600173950195, -4.77269983291626, -4.809500217437744, -4.745299816131592, -4.829800128936768, -4.84689998626709, -4.859499931335449, -4.8917999267578125, -4.9878997802734375, -5.01140022277832, -5.026400089263916, -2.8696999549865723, -3.4971001148223877, -3.497299909591675, -3.7945001125335693, -3.7992000579833984, -3.8959999084472656, -3.913100004196167, -4.0258002281188965, -4.06790018081665, -4.111800193786621, -4.172599792480469, -4.174499988555908, -4.190499782562256, -4.242499828338623, -4.292399883270264, -4.344799995422363, -4.438700199127197, -4.534900188446045, -4.642199993133545, -4.674499988555908, -4.70550012588501, -4.720399856567383, -4.749599933624268, -4.811200141906738, -4.831699848175049, -4.875500202178955, -4.954699993133545, -5.083700180053711, -5.101399898529053, -5.084400177001953, -2.1263999938964844, -3.150399923324585, -3.3712000846862793, -3.577500104904175, -3.80679988861084, -3.9388999938964844, -4.066699981689453, -4.078400135040283, -4.079599857330322, -4.481200218200684, -4.51669979095459, -4.565999984741211, -4.569799900054932, -4.662899971008301, -4.665200233459473, -4.6880998611450195, -4.75540018081665, -4.783199787139893, -4.8024001121521, -4.817399978637695, -4.880099773406982, -4.882199764251709, -4.92609977722168, -4.953700065612793, -4.996300220489502, -5.02269983291626, -5.0767998695373535, -5.110400199890137, -5.1346001625061035, -5.138599872589111], \"loglift\": [30.0, 29.0, 28.0, 27.0, 26.0, 25.0, 24.0, 23.0, 22.0, 21.0, 20.0, 19.0, 18.0, 17.0, 16.0, 15.0, 14.0, 13.0, 12.0, 11.0, 10.0, 9.0, 8.0, 7.0, 6.0, 5.0, 4.0, 3.0, 2.0, 1.0, 2.135699987411499, 2.135499954223633, 2.1354000568389893, 2.1350998878479004, 2.1349000930786133, 2.1347999572753906, 2.1347999572753906, 2.134700059890747, 2.134700059890747, 2.134700059890747, 2.134700059890747, 2.1345999240875244, 2.1345999240875244, 2.134500026702881, 2.134399890899658, 2.1342999935150146, 2.1342999935150146, 2.1342999935150146, 2.134200096130371, 2.1340999603271484, 2.1340999603271484, 2.1338999271392822, 2.1338999271392822, 2.133699893951416, 2.1335999965667725, 2.1335999965667725, 2.1335999965667725, 2.1328999996185303, 2.132699966430664, 2.132699966430664, 1.9977999925613403, 2.6861000061035156, 2.686000108718872, 2.685699939727783, 2.685499906539917, 2.6849000453948975, 2.6837000846862793, 2.6835999488830566, 2.683199882507324, 2.682800054550171, 2.682499885559082, 2.6821000576019287, 2.6816999912261963, 2.6816000938415527, 2.6816000938415527, 2.6810998916625977, 2.680999994277954, 2.6803998947143555, 2.6800999641418457, 2.680000066757202, 2.679800033569336, 2.67930006980896, 2.6791999340057373, 2.678999900817871, 2.6786000728607178, 2.6784000396728516, 2.677799940109253, 2.6775999069213867, 2.6774001121520996, 2.6772000789642334, 2.675800085067749, 2.6751999855041504, 2.6491000652313232, 2.7383999824523926, 2.7367000579833984, 2.736599922180176, 2.7355000972747803, 2.735300064086914, 2.7348999977111816, 2.734800100326538, 2.734800100326538, 2.734600067138672, 2.7332000732421875, 2.7321999073028564, 2.7320001125335693, 2.7314999103546143, 2.7309999465942383, 2.7309999465942383, 2.730799913406372, 2.7304000854492188, 2.730299949645996, 2.7302000522613525, 2.72979998588562, 2.7295000553131104, 2.7293999195098877, 2.729099988937378, 2.728600025177002, 2.7283999919891357, 2.7283999919891357, 2.7279000282287598, 2.7274999618530273, 2.7272000312805176, 2.726900100708008, 2.94950008392334, 2.9479000568389893, 2.9475998878479004, 2.947200059890747, 2.947200059890747, 2.947000026702881, 2.946500062942505, 2.9458999633789062, 2.9456000328063965, 2.945499897003174, 2.945499897003174, 2.9453001022338867, 2.944999933242798, 2.9447999000549316, 2.944700002670288, 2.944000005722046, 2.9439001083374023, 2.9430999755859375, 2.9423000812530518, 2.942199945449829, 2.9419000148773193, 2.9407999515533447, 2.9405999183654785, 2.940200090408325, 2.940200090408325, 2.940000057220459, 2.9398000240325928, 2.939300060272217, 2.9382998943328857, 2.9379000663757324, 2.9670000076293945, 2.966099977493286, 2.9658000469207764, 2.9658000469207764, 2.96560001373291, 2.9655001163482666, 2.9655001163482666, 2.9651999473571777, 2.9649999141693115, 2.9642999172210693, 2.964200019836426, 2.964200019836426, 2.964099884033203, 2.964099884033203, 2.963599920272827, 2.9632999897003174, 2.9632999897003174, 2.962899923324585, 2.9621999263763428, 2.9616000652313232, 2.9616000652313232, 2.9616000652313232, 2.9612998962402344, 2.961199998855591, 2.9609999656677246, 2.960900068283081, 2.9607999324798584, 2.960400104522705, 2.960400104522705, 2.960200071334839, 2.995500087738037, 2.9953999519348145, 2.994800090789795, 2.9941000938415527, 2.993799924850464, 2.9937000274658203, 2.9935998916625977, 2.993299961090088, 2.9930999279022217, 2.9914000034332275, 2.991300106048584, 2.9911000728607178, 2.9909000396728516, 2.990799903869629, 2.990600109100342, 2.990299940109253, 2.9902000427246094, 2.9897000789642334, 2.9897000789642334, 2.9893999099731445, 2.9890999794006348, 2.9885001182556152, 2.9885001182556152, 2.9883999824523926, 2.988300085067749, 2.98799991607666, 2.9879000186920166, 2.9879000186920166, 2.9874000549316406, 2.987299919128418, 3.004199981689453, 3.003999948501587, 3.003000020980835, 3.003000020980835, 3.0027999877929688, 3.002500057220459, 3.0023000240325928, 3.001800060272217, 3.0013999938964844, 3.001300096511841, 3.0011000633239746, 3.0009000301361084, 3.000499963760376, 3.0000998973846436, 2.9999001026153564, 2.9995999336242676, 2.999000072479248, 2.999000072479248, 2.998500108718872, 2.997999906539917, 2.9971001148223877, 2.9971001148223877, 2.9967000484466553, 2.9965999126434326, 2.996500015258789, 2.995800018310547, 2.995800018310547, 2.9955999851226807, 2.995500087738037, 2.9953999519348145, 3.027899980545044, 3.027600049972534, 3.0274999141693115, 3.027400016784668, 3.026599884033203, 3.02620005607605, 3.026099920272827, 3.0260000228881836, 3.0257999897003174, 3.025700092315674, 3.0255000591278076, 3.0248000621795654, 3.0246999263763428, 3.024399995803833, 3.0243000984191895, 3.024199962615967, 3.0237998962402344, 3.023699998855591, 3.023699998855591, 3.023099899291992, 3.0230000019073486, 3.022900104522705, 3.022200107574463, 3.0216000080108643, 3.0209999084472656, 3.020900011062622, 3.0206000804901123, 3.0204999446868896, 3.0202999114990234, 3.01990008354187, 1.8791999816894531, 3.0541000366210938, 3.053999900817871, 3.0536000728607178, 3.053100109100342, 3.0529000759124756, 3.052799940109253, 3.052799940109253, 3.052799940109253, 3.0527000427246094, 3.0520999431610107, 3.0518999099731445, 3.0518999099731445, 3.051500082015991, 3.0506999492645264, 3.0501999855041504, 3.049499988555908, 3.049299955368042, 3.0485000610351562, 3.0481998920440674, 3.0481998920440674, 3.0481998920440674, 3.0480000972747803, 3.047499895095825, 3.0473999977111816, 3.0471999645233154, 3.0469000339508057, 3.046799898147583, 3.046799898147583, 3.046299934387207, 3.0460000038146973, 3.0571999549865723, 3.056999921798706, 3.056999921798706, 3.05679988861084, 3.0560998916625977, 3.0560998916625977, 3.0560998916625977, 3.0559000968933105, 3.0553998947143555, 3.0552000999450684, 3.0552000999450684, 3.055000066757202, 3.0546998977661133, 3.0546000003814697, 3.0543999671936035, 3.05430006980896, 3.05430006980896, 3.0541999340057373, 3.053999900817871, 3.053800106048584, 3.053800106048584, 3.053800106048584, 3.0532000064849854, 3.053100109100342, 3.0525999069213867, 3.050600051879883, 3.0504000186920166, 3.050100088119507, 3.0499000549316406, 3.0497000217437744, 3.083699941635132, 3.083199977874756, 3.0831000804901123, 3.0831000804901123, 3.0827999114990234, 3.08240008354187, 3.08240008354187, 3.0817999839782715, 3.081700086593628, 3.0815999507904053, 3.081399917602539, 3.0810999870300293, 3.0810000896453857, 3.0808000564575195, 3.0799999237060547, 3.079900026321411, 3.079699993133545, 3.0796000957489014, 3.0790998935699463, 3.0790998935699463, 3.0789999961853027, 3.078700065612793, 3.078399896621704, 3.077699899673462, 3.077399969100952, 3.076900005340576, 3.076200008392334, 3.076200008392334, 3.074700117111206, 3.0745999813079834, 3.0950000286102295, 3.0945000648498535, 3.094399929046631, 3.0941998958587646, 3.094099998474121, 3.0938000679016113, 3.0934998989105225, 3.0933001041412354, 3.0927999019622803, 3.0922999382019043, 3.092099905014038, 3.0920000076293945, 3.0920000076293945, 3.091900110244751, 3.0915000438690186, 3.091399908065796, 3.09089994430542, 3.0899999141693115, 3.089400053024292, 3.0892999172210693, 3.0892999172210693, 3.0889999866485596, 3.0889999866485596, 3.0878000259399414, 3.0875000953674316, 3.0864999294281006, 3.085099935531616, 3.084399938583374, 3.0843000411987305, 3.0831000804901123, 3.009999990463257, 3.154900074005127, 3.154599905014038, 3.154599905014038, 3.1542000770568848, 3.1542000770568848, 3.153599977493286, 3.153599977493286, 3.1533000469207764, 3.1531999111175537, 3.15310001373291, 3.1530001163482666, 3.1530001163482666, 3.152600049972534, 3.152600049972534, 3.1521999835968018, 3.151700019836426, 3.151599884033203, 3.151599884033203, 3.1514999866485596, 3.15120005607605, 3.151099920272827, 3.1505000591278076, 3.1496999263763428, 3.1493000984191895, 3.1489999294281006, 3.1484999656677246, 3.1480000019073486, 3.147900104522705, 3.147700071334839, 3.1470000743865967, 3.16510009765625, 3.1649999618530273, 3.1649999618530273, 3.1649999618530273, 3.164099931716919, 3.163800001144409, 3.163599967956543, 3.1630001068115234, 3.1630001068115234, 3.1628000736236572, 3.162600040435791, 3.162400007247925, 3.1610000133514404, 3.160399913787842, 3.1603000164031982, 3.1602001190185547, 3.1594998836517334, 3.15939998626709, 3.158900022506714, 3.158600091934204, 3.1582999229431152, 3.1577000617980957, 3.1572999954223633, 3.157099962234497, 3.1563000679016113, 3.1561999320983887, 3.1561999320983887, 3.155400037765503, 3.1552999019622803, 3.155100107192993, 3.1767001152038574, 3.176500082015991, 3.1751999855041504, 3.1747000217437744, 3.1735999584198, 3.1733999252319336, 3.173099994659424, 3.171799898147583, 3.171799898147583, 3.1714000701904297, 3.171299934387207, 3.170599937438965, 3.1702001094818115, 3.1698999404907227, 3.169800043106079, 3.169300079345703, 3.1686999797821045, 3.1682000160217285, 3.168100118637085, 3.1679999828338623, 3.1675000190734863, 3.166599988937378, 3.1654999256134033, 3.16510009765625, 3.1640000343322754, 3.1640000343322754, 3.1638998985290527, 3.1633999347686768, 3.1633999347686768, 3.1631999015808105, 3.127500057220459, 0.5430999994277954, 2.7056000232696533, 3.1875, 3.1874001026153564, 3.1863999366760254, 3.186199903488159, 3.1861000061035156, 3.1856000423431396, 3.185499906539917, 3.1851999759674072, 3.1847000122070312, 3.1847000122070312, 3.1840999126434326, 3.1839001178741455, 3.183799982070923, 3.183300018310547, 3.183199882507324, 3.1828999519348145, 3.182800054550171, 3.1826999187469482, 3.1826000213623047, 3.182300090789795, 3.1819000244140625, 3.18179988861084, 3.18179988861084, 3.1812000274658203, 3.1812000274658203, 3.1810998916625977, 3.1809000968933105, 3.1796000003814697, 3.179500102996826, 3.178999900817871, 2.305799961090088, 3.2142999172210693, 3.213900089263916, 3.213599920272827, 3.213099956512451, 3.2119998931884766, 3.211899995803833, 3.2116000652313232, 3.211400032043457, 3.210099935531616, 3.2100000381469727, 3.2095999717712402, 3.208699941635132, 3.2086000442504883, 3.2083001136779785, 3.2079999446868896, 3.207900047302246, 3.2065000534057617, 3.205899953842163, 3.205399990081787, 3.2042999267578125, 3.203399896621704, 3.202199935913086, 3.2019999027252197, 3.2011001110076904, 3.200900077819824, 3.2007999420166016, 3.200200080871582, 3.200000047683716, 3.199700117111206, 3.198499917984009, 1.4417999982833862, 1.4299999475479126, 3.226099967956543, 3.2258999347686768, 3.2253000736236572, 3.2232000827789307, 3.223099946975708, 3.222899913787842, 3.2225000858306885, 3.2225000858306885, 3.2223000526428223, 3.2223000526428223, 3.22189998626709, 3.2214999198913574, 3.2214999198913574, 3.221400022506714, 3.2211999893188477, 3.2209999561309814, 3.220900058746338, 3.2207000255584717, 3.2202999591827393, 3.219599962234497, 3.219599962234497, 3.2193000316619873, 3.2193000316619873, 3.2191998958587646, 3.219099998474121, 3.2190001010894775, 3.2186999320983887, 3.217900037765503, 3.2177000045776367, 3.2174999713897705, 3.320199966430664, 3.319200038909912, 3.319200038909912, 3.3183999061584473, 3.3183999061584473, 3.3180999755859375, 3.318000078201294, 3.3176000118255615, 3.3173999786376953, 3.317199945449829, 3.316999912261963, 3.316999912261963, 3.3169000148773193, 3.316699981689453, 3.3164000511169434, 3.316200017929077, 3.3155999183654785, 3.3150999546051025, 3.314300060272217, 3.3141000270843506, 3.3138999938964844, 3.313800096511841, 3.313499927520752, 3.312999963760376, 3.3129000663757324, 3.3125, 3.311800003051758, 3.3104000091552734, 3.3101999759674072, 3.3097000122070312, 3.5499000549316406, 3.5485999584198, 3.548099994659424, 3.547499895095825, 3.5467000007629395, 3.5462000370025635, 3.545599937438965, 3.5455000400543213, 3.5455000400543213, 3.5429999828338623, 3.5427000522613525, 3.54229998588562, 3.54229998588562, 3.5415000915527344, 3.5413999557495117, 3.5411999225616455, 3.540600061416626, 3.540299892425537, 3.54010009765625, 3.5399999618530273, 3.539299964904785, 3.5392000675201416, 3.5387001037597656, 3.5383999347686768, 3.537899971008301, 3.5374999046325684, 3.536799907684326, 3.536400079727173, 3.5360000133514404, 3.5360000133514404]}, \"token.table\": {\"Topic\": [3, 18, 19, 12, 18, 13, 14, 13, 2, 9, 7, 20, 1, 12, 18, 1, 19, 1, 20, 1, 2, 12, 18, 7, 18, 14, 3, 14, 13, 10, 14, 19, 5, 14, 14, 6, 18, 8, 16, 15, 17, 11, 9, 8, 7, 11, 1, 2, 3, 15, 16, 7, 8, 4, 17, 1, 6, 1, 1, 5, 12, 9, 12, 4, 4, 10, 8, 6, 17, 6, 18, 16, 15, 3, 8, 16, 11, 7, 8, 15, 16, 16, 6, 14, 18, 15, 8, 14, 13, 14, 18, 16, 18, 15, 1, 2, 3, 4, 5, 6, 7, 8, 9, 10, 11, 12, 13, 14, 15, 16, 17, 18, 19, 20, 16, 14, 11, 16, 3, 9, 3, 6, 3, 5, 12, 1, 19, 19, 7, 11, 4, 7, 7, 7, 8, 10, 9, 15, 10, 6, 8, 20, 7, 5, 9, 16, 20, 4, 4, 19, 3, 8, 8, 15, 12, 6, 15, 1, 2, 20, 18, 4, 7, 7, 2, 18, 15, 8, 4, 5, 15, 14, 11, 1, 2, 3, 4, 4, 3, 5, 20, 18, 2, 3, 16, 3, 18, 3, 18, 2, 19, 16, 19, 19, 14, 3, 9, 16, 13, 8, 4, 2, 17, 19, 16, 14, 11, 5, 18, 2, 7, 3, 13, 6, 1, 13, 20, 17, 17, 5, 19, 11, 9, 5, 19, 5, 11, 20, 4, 13, 17, 19, 18, 9, 18, 17, 2, 13, 2, 12, 20, 15, 7, 16, 7, 17, 12, 13, 12, 13, 20, 9, 4, 12, 18, 13, 3, 6, 2, 12, 12, 7, 6, 9, 8, 8, 15, 7, 7, 13, 18, 9, 9, 11, 3, 19, 4, 10, 13, 8, 15, 16, 17, 6, 20, 13, 3, 4, 9, 9, 5, 18, 5, 14, 9, 8, 17, 8, 5, 2, 17, 1, 8, 3, 7, 19, 4, 3, 10, 14, 2, 2, 20, 6, 11, 13, 6, 5, 5, 14, 2, 18, 9, 11, 12, 10, 16, 11, 13, 16, 6, 12, 18, 3, 5, 1, 11, 15, 2, 18, 3, 2, 16, 20, 9, 19, 11, 14, 11, 3, 9, 2, 20, 17, 12, 5, 10, 10, 1, 2, 3, 4, 5, 6, 7, 8, 9, 10, 11, 12, 13, 14, 15, 16, 17, 18, 19, 20, 19, 13, 12, 3, 1, 2, 3, 4, 5, 6, 7, 8, 9, 10, 11, 12, 13, 14, 15, 16, 17, 18, 19, 20, 13, 9, 17, 13, 1, 18, 12, 8, 11, 5, 12, 15, 7, 10, 11, 10, 6, 11, 17, 1, 16, 6, 16, 2, 7, 14, 7, 12, 16, 14, 3, 2, 5, 8, 10, 14, 9, 6, 6, 11, 12, 12, 5, 16, 11, 2, 8, 13, 8, 15, 18, 17, 4, 16, 17, 8, 12, 12, 10, 2, 4, 13, 4, 15, 15, 17, 14, 17, 9, 13, 11, 11, 9, 17, 10, 5, 2, 16, 6, 17, 12, 1, 18, 16, 1, 9, 4, 3, 8, 14, 19, 7, 3, 16, 20, 19, 18, 6, 10, 1, 5, 15, 14, 4, 16, 10, 17, 19, 7, 15, 19, 9, 14, 1, 16, 10, 17, 6, 2, 4, 16, 15, 8, 2, 15, 1, 15, 20, 6, 17, 17, 10, 3, 20, 1, 7, 5, 20, 19, 9, 3, 2, 13, 17, 8, 19, 20, 9, 14, 1, 5, 20, 14, 6, 5, 1, 15, 4, 8, 19, 7, 11, 13, 4, 11, 20, 20, 6, 20, 5, 19, 4, 15, 17, 4, 14, 19, 6, 7, 2, 17, 15, 2, 6, 14, 6, 6, 12, 20, 14, 20, 2, 13, 15, 20, 10, 2, 10, 7, 10, 19, 19, 1, 8, 15, 9, 13, 14, 12, 10, 17, 11, 6, 15, 1, 17, 1, 7, 12, 1, 7, 4, 10, 10, 18, 4, 1, 13, 5, 13, 3, 12, 1, 20, 10, 20, 11, 2, 7, 5, 1, 15, 4, 20, 1, 1, 20, 10, 9, 19, 10, 12, 5, 9, 2, 11, 10, 8, 10, 3, 19, 16, 18, 10, 11, 5, 11, 1, 4, 12, 13, 1, 2, 3, 4, 5, 6, 7, 8, 9, 10, 11, 12, 13, 14, 15, 16, 17, 18, 19, 20, 15], \"Freq\": [0.9965898394584656, 0.9942598938941956, 0.9932370185852051, 0.9968715310096741, 0.9880016446113586, 0.9977705478668213, 0.9990043640136719, 0.9956156611442566, 0.9977799654006958, 0.9929091334342957, 0.9942896962165833, 0.995559573173523, 0.9993865489959717, 0.9947585463523865, 0.9993113279342651, 0.9982807636260986, 0.9909177422523499, 0.9971156716346741, 0.9962085485458374, 0.027731528505682945, 0.9636706113815308, 0.9933395981788635, 0.9904633164405823, 0.988885223865509, 0.987342357635498, 0.9955493807792664, 0.988771915435791, 0.9964703321456909, 0.9985360503196716, 0.9976242184638977, 0.996583878993988, 0.9948344230651855, 0.9989582896232605, 0.9986218810081482, 0.9973255395889282, 0.9928236603736877, 0.9988709688186646, 0.9975056052207947, 0.9947139024734497, 0.9912585616111755, 0.9956000447273254, 0.997464120388031, 0.9989493489265442, 0.9909502863883972, 0.9937564134597778, 0.9964659214019775, 0.5549426674842834, 0.017758166417479515, 0.004439541604369879, 0.004439541604369879, 0.4128773510456085, 0.9969784617424011, 0.9945390820503235, 0.9876918792724609, 0.9787489175796509, 0.9975606799125671, 0.9930916428565979, 0.9975989460945129, 0.9977626204490662, 0.9974367022514343, 0.9963040947914124, 0.9946555495262146, 0.9927121996879578, 0.9972507357597351, 0.9941392540931702, 0.9937947392463684, 0.9990094900131226, 0.9976280927658081, 0.9997885823249817, 0.9974663257598877, 0.9900574088096619, 0.9951288104057312, 0.9912060499191284, 0.9982892274856567, 0.9956476092338562, 0.9981896281242371, 0.992195725440979, 0.9982021450996399, 0.9984705448150635, 0.9900022149085999, 0.9982350468635559, 0.9923844337463379, 0.9907491207122803, 0.9927296042442322, 0.9968984723091125, 0.9945008754730225, 0.9983425140380859, 0.99033522605896, 0.9967994689941406, 0.9928011298179626, 0.9848763346672058, 0.9922997355461121, 0.9880368709564209, 0.9940271973609924, 0.11970732361078262, 0.07758808135986328, 0.06872086971998215, 0.026601627469062805, 0.015517615713179111, 0.050986453890800476, 0.03546883538365364, 0.31700271368026733, 0.037685640156269073, 0.02438482455909252, 0.019951220601797104, 0.01773441769182682, 0.04211924225091934, 0.013300813734531403, 0.013300813734531403, 0.07315447926521301, 0.013300813734531403, 0.019951220601797104, 0.013300813734531403, 0.004433604422956705, 0.9932602047920227, 0.9931100010871887, 0.995607316493988, 0.9934079051017761, 0.9973036050796509, 0.997802734375, 0.9963485598564148, 0.9963113069534302, 0.9974743723869324, 0.989794909954071, 0.9932871460914612, 0.9994018077850342, 0.9911804795265198, 0.9882649183273315, 0.9950346350669861, 0.997763454914093, 0.9997324347496033, 0.9954885244369507, 0.9902116656303406, 0.9923503398895264, 0.9994584321975708, 0.9936859607696533, 0.9972693920135498, 0.9948838353157043, 0.9961240291595459, 0.9904923439025879, 0.9957616329193115, 0.9887454509735107, 0.9919536709785461, 0.9972203969955444, 0.9917747378349304, 0.9965838193893433, 0.9949490427970886, 0.9949096441268921, 0.9936821460723877, 0.9967995882034302, 0.9856078028678894, 0.9965518712997437, 0.9968869090080261, 0.9979989528656006, 0.9957321286201477, 0.9944292306900024, 0.9904103875160217, 0.9996086359024048, 0.9936400651931763, 0.9886467456817627, 0.9974794983863831, 0.9987805485725403, 0.9881728291511536, 0.9969356060028076, 0.9855107665061951, 0.9975617527961731, 0.9994377493858337, 0.9864460825920105, 0.9877968430519104, 0.9967883229255676, 0.997840166091919, 0.9966692924499512, 0.9915802478790283, 0.8714176416397095, 0.12687306106090546, 0.9946953654289246, 0.9920071959495544, 0.9978365302085876, 0.9949691891670227, 0.9970414638519287, 0.9964228272438049, 0.9925476908683777, 0.9931398630142212, 0.9890544414520264, 0.9924857020378113, 0.9846289157867432, 0.9940645694732666, 0.9926581978797913, 0.9941248893737793, 0.9980074763298035, 0.9942448735237122, 0.992502748966217, 0.9880298972129822, 0.994882345199585, 0.9991300106048584, 0.9959493279457092, 0.9925045967102051, 0.9969921112060547, 0.9978203773498535, 0.9922243356704712, 0.9873647689819336, 0.9857828617095947, 0.979210615158081, 0.9937723278999329, 0.9970465302467346, 0.9968485236167908, 0.9972777962684631, 0.9922608733177185, 0.9950401782989502, 0.9956454038619995, 0.9875608682632446, 0.9963218569755554, 0.9981733560562134, 0.996558427810669, 0.9976280927658081, 0.9907646179199219, 0.9991791248321533, 0.9991586804389954, 0.9774924516677856, 0.9967044591903687, 0.9956235885620117, 0.997596263885498, 0.9987291097640991, 0.9920589327812195, 0.9941511750221252, 0.9975167512893677, 0.9960839152336121, 0.9883079528808594, 0.9954317212104797, 0.9963456988334656, 0.994992733001709, 0.990973711013794, 0.9974023103713989, 0.9966587424278259, 0.9898390173912048, 0.992835283279419, 0.9961739778518677, 0.9944519400596619, 0.991746187210083, 0.995307981967926, 0.9958937168121338, 0.9495130181312561, 0.9950704574584961, 0.991361677646637, 0.9920811057090759, 0.9935020208358765, 0.990267813205719, 0.9945276379585266, 0.9986990690231323, 0.9975473284721375, 0.9941408634185791, 0.9935954809188843, 0.9988970756530762, 0.9933744072914124, 0.990159273147583, 0.9936547875404358, 0.9977133274078369, 0.9954520463943481, 0.9986638426780701, 0.9992159605026245, 0.9852942228317261, 0.9917765259742737, 0.995160698890686, 0.9929887056350708, 0.9908469319343567, 0.996842622756958, 0.994928240776062, 0.9980170130729675, 0.9912999272346497, 0.991834282875061, 0.9951431155204773, 0.9994142651557922, 0.996440052986145, 0.9953314065933228, 0.9974856972694397, 0.9994285106658936, 0.9975014925003052, 0.9950248599052429, 0.9957805275917053, 0.998064398765564, 0.9787397384643555, 0.9957467317581177, 0.9877005815505981, 0.9940962791442871, 0.9937452077865601, 0.9978076219558716, 0.9837113618850708, 0.988649845123291, 0.9957002401351929, 0.9969927668571472, 0.9933670163154602, 0.9960920214653015, 0.9949160218238831, 0.9901506900787354, 0.9982759356498718, 0.9938589334487915, 0.9933950304985046, 0.9950122833251953, 0.9942605495452881, 0.9919189810752869, 0.9929400682449341, 0.9961708784103394, 0.9935722351074219, 0.9859180450439453, 0.9978417158126831, 0.9961065649986267, 0.9946325421333313, 0.9967712163925171, 0.9944217205047607, 0.997767448425293, 0.9859075546264648, 0.9908851981163025, 0.9876672029495239, 0.9925794005393982, 0.9932330846786499, 0.9964463114738464, 0.9925870895385742, 0.994543194770813, 0.9982115030288696, 0.9918960332870483, 0.9969813823699951, 0.988335371017456, 0.9962732195854187, 0.996350109577179, 0.9988695979118347, 0.999474823474884, 0.9912117123603821, 0.9964336156845093, 0.9989246726036072, 0.9987640380859375, 0.9968978762626648, 0.9914500713348389, 0.9939658641815186, 0.9829760789871216, 0.9873074293136597, 0.9983174204826355, 0.9902045130729675, 0.9875066876411438, 0.9956467151641846, 0.9981263875961304, 0.9904857277870178, 0.9955270886421204, 0.9952148199081421, 0.9953365325927734, 0.9985661506652832, 0.9931198954582214, 0.997498631477356, 0.9983565807342529, 0.9880160689353943, 0.9913762211799622, 0.9872827529907227, 0.9989913105964661, 0.98869389295578, 0.9980406165122986, 0.9926697015762329, 0.9933055639266968, 0.9933164119720459, 0.9991210699081421, 0.04227707162499428, 0.02113853581249714, 0.02113853581249714, 0.02113853581249714, 0.02113853581249714, 0.02113853581249714, 0.02113853581249714, 0.02113853581249714, 0.02113853581249714, 0.02113853581249714, 0.02113853581249714, 0.02113853581249714, 0.02113853581249714, 0.02113853581249714, 0.6235868334770203, 0.02113853581249714, 0.02113853581249714, 0.02113853581249714, 0.02113853581249714, 0.01056926790624857, 0.9909159541130066, 0.9968006014823914, 0.984964907169342, 0.9927995204925537, 0.1313910186290741, 0.0644073635339737, 0.0549609512090683, 0.05066712573170662, 0.028339240700006485, 0.04809083044528961, 0.036926887929439545, 0.05667848140001297, 0.036926887929439545, 0.036926887929439545, 0.03177429735660553, 0.03950318321585655, 0.03177429735660553, 0.02490418031811714, 0.04465577006340027, 0.032633062452077866, 0.1700354367494583, 0.03520935773849487, 0.030056769028306007, 0.013740237802267075, 0.9945428371429443, 0.9975149631500244, 0.9966241121292114, 0.9912458062171936, 0.9990162253379822, 0.9993752837181091, 0.9968635439872742, 0.9978048801422119, 0.9884988069534302, 0.9927902817726135, 0.9986336827278137, 0.9927831292152405, 0.9975723028182983, 0.9985303282737732, 0.9930245280265808, 0.998518705368042, 0.9989537596702576, 0.9941942095756531, 0.996888279914856, 0.998691976070404, 0.9950754046440125, 0.9960029721260071, 0.9981938600540161, 0.9908559322357178, 0.995364785194397, 0.9956860542297363, 0.9952970743179321, 0.9881945848464966, 0.9941368699073792, 0.9913684129714966, 0.9964439868927002, 0.9925068020820618, 0.9965391159057617, 0.9955387115478516, 0.9912643432617188, 0.9875121712684631, 0.9890369772911072, 0.9985026121139526, 0.9932028651237488, 0.997461199760437, 0.9992038607597351, 0.9961633086204529, 0.9944041967391968, 0.994596540927887, 0.9989086985588074, 0.9996700882911682, 0.9977765679359436, 0.9970364570617676, 0.9951742887496948, 0.9943580031394958, 0.9939608573913574, 0.9889381527900696, 0.9979454278945923, 0.9887641668319702, 0.990593671798706, 0.9903897047042847, 0.9914059042930603, 0.997185230255127, 0.9937370419502258, 0.9916208386421204, 0.9914702773094177, 0.9982630014419556, 0.9930120706558228, 0.9921892881393433, 0.9810066819190979, 0.9895012974739075, 0.9883524775505066, 0.9962420463562012, 0.9991468787193298, 0.9974092245101929, 0.9967222213745117, 0.9989772439002991, 0.9972090125083923, 0.9841670393943787, 0.9927983283996582, 0.994301438331604, 0.9898735880851746, 0.9932453036308289, 0.9992083311080933, 0.9933527708053589, 0.9981562495231628, 0.9984707832336426, 0.996084988117218, 0.9931946992874146, 0.9996774792671204, 0.9955573081970215, 0.9932448863983154, 0.9947522878646851, 0.9951694011688232, 0.9986817836761475, 0.9945176243782043, 0.9972244501113892, 0.9933843016624451, 0.9928223490715027, 0.9868545532226562, 0.9895408749580383, 0.989949643611908, 0.9945818185806274, 0.99632328748703, 0.9993159174919128, 0.996157705783844, 0.9915799498558044, 0.9967119097709656, 0.9979802966117859, 0.995337724685669, 0.9980347752571106, 0.9930977821350098, 0.9923719763755798, 0.9949329495429993, 0.9945973753929138, 0.9949726462364197, 0.9920283555984497, 0.9878436923027039, 0.9987736344337463, 0.9928872585296631, 0.9953795671463013, 0.9969921708106995, 0.9913265109062195, 0.9996476769447327, 0.9886768460273743, 0.9994313716888428, 0.999855101108551, 0.9924639463424683, 0.9967867136001587, 0.9975175857543945, 0.9981290698051453, 0.9923821091651917, 0.9928135275840759, 0.9987779855728149, 0.9984424114227295, 0.993545651435852, 0.9975714087486267, 0.9952126145362854, 0.985195517539978, 0.9989429712295532, 0.9943199753761292, 0.9961475133895874, 0.9884421229362488, 0.9927811622619629, 0.9979629516601562, 0.9849335551261902, 0.9909831285476685, 0.9954218864440918, 0.9950671792030334, 0.9982577562332153, 0.9955886602401733, 0.9897155165672302, 0.9889479875564575, 0.9934240579605103, 0.998309314250946, 0.9899998307228088, 0.9942783713340759, 0.9956838488578796, 0.9967533946037292, 0.9904269576072693, 0.9977189302444458, 0.989806592464447, 0.9981406331062317, 0.9982653856277466, 0.9975574612617493, 0.9993724226951599, 0.9913176894187927, 0.9962456226348877, 0.9893456697463989, 0.989585816860199, 0.9895657300949097, 0.9791592955589294, 0.9977441430091858, 0.9950673580169678, 0.9975806474685669, 0.9923485517501831, 0.9916737079620361, 0.9963982105255127, 0.9835086464881897, 0.9922841787338257, 0.9875075221061707, 0.9942225813865662, 0.997319221496582, 0.997624397277832, 0.99274080991745, 0.9826565980911255, 0.9867194294929504, 0.9941948056221008, 0.9954277873039246, 0.9932788014411926, 0.9951502680778503, 0.9934776425361633, 0.9986029863357544, 0.9961363673210144, 0.9984104633331299, 0.9793888330459595, 0.9997473955154419, 0.992614209651947, 0.9869186878204346, 0.9997013807296753, 0.9976282119750977, 0.9947497248649597, 0.9976220726966858, 0.9938799738883972, 0.9957314133644104, 0.9960627555847168, 0.9969806671142578, 0.9985678195953369, 0.9871538281440735, 0.9889755845069885, 0.9957681894302368, 0.997810423374176, 0.9848987460136414, 0.9924727082252502, 0.9963874816894531, 0.9968683123588562, 0.9982547760009766, 0.9918990135192871, 0.9805209636688232, 0.9962744116783142, 0.9960456490516663, 0.06210312247276306, 0.008871874772012234, 0.9138031005859375, 0.9992189407348633, 0.9984155893325806, 0.9952405095100403, 0.999282717704773, 0.9986529350280762, 0.9945521354675293, 0.9977160096168518, 0.9975569844245911, 0.995980441570282, 0.9926205277442932, 0.9980209469795227, 0.9915434122085571, 0.9992889165878296, 0.9961357712745667, 0.996251106262207, 0.9969856142997742, 0.996398389339447, 0.9912053346633911, 0.9973134994506836, 0.9991170763969421, 0.9966133236885071, 0.9980906248092651, 0.9985450506210327, 0.9967555999755859, 0.9908590316772461, 0.9983770847320557, 0.9986162781715393, 0.9930243492126465, 0.9984897375106812, 0.99843430519104, 0.996880054473877, 0.9944497346878052, 0.9929498434066772, 0.9937400221824646, 0.9968466758728027, 0.9981038570404053, 0.9994165301322937, 0.9972165822982788, 0.9975916743278503, 0.9982998371124268, 0.9998891949653625, 0.996214747428894, 0.9960527420043945, 0.9908262491226196, 0.9977777600288391, 0.9961410164833069, 0.9971516132354736, 0.9986655712127686, 0.9980846047401428, 0.9954921007156372, 0.9894236326217651, 0.992489755153656, 0.1283947229385376, 0.061484795063734055, 0.05244291573762894, 0.04882616177201271, 0.028029832988977432, 0.046113595366477966, 0.035263337194919586, 0.0542512908577919, 0.035263337194919586, 0.035263337194919586, 0.03345496207475662, 0.03797590360045433, 0.030742397531867027, 0.024413080886006355, 0.07143086194992065, 0.03164658695459366, 0.1681790053844452, 0.034359149634838104, 0.028029832988977432, 0.013562822714447975, 0.9950127601623535], \"Term\": [\"abran\", \"acaban\", \"acabo\", \"accione\", \"accionnacional\", \"acompaanos\", \"actividade\", \"actor\", \"actual\", \"adio\", \"afecta\", \"agente\", \"aguascaliente\", \"alfredodelmazo\", \"alimentacion\", \"alimentario\", \"alimento\", \"alimentos\", \"amlo\", \"amloveteya\", \"amloveteya\", \"amore\", \"amp\", \"analisis\", \"animale\", \"anteriore\", \"apoco\", \"apoyar\", \"apoyos\", \"aqui\", \"area\", \"asunto\", \"atencion\", \"atend\", \"atender\", \"aunque\", \"autoridade\", \"avance\", \"bar\", \"base\", \"beautiful\", \"bebe\", \"beber\", \"beneficio\", \"bienestar\", \"bot\", \"brazalete\", \"brazalete\", \"brazalete\", \"brazalete\", \"brazalete\", \"brote\", \"brutal\", \"buenas_noche\", \"buenas_tarde\", \"buenjueve\", \"buenlune\", \"buenmiercole\", \"call\", \"can\", \"cancer\", \"canirac\", \"capacitacion\", \"casa\", \"case\", \"casual\", \"cdeprihidalgo_erika\", \"cdm\", \"cdmx\", \"cerveza\", \"chiapa\", \"chisme\", \"chiste\", \"chumeltorre\", \"clase\", \"cliente\", \"clip\", \"cndh\", \"coahuila\", \"colmo\", \"color\", \"colore\", \"combate\", \"combatir\", \"come\", \"comentario\", \"comer\", \"comerciante\", \"comercio\", \"compa\", \"complice\", \"comun\", \"comunicacion\", \"comunidade\", \"conapre\", \"conapre\", \"conapre\", \"conapre\", \"conapre\", \"conapre\", \"conapre\", \"conapre\", \"conapre\", \"conapre\", \"conapre\", \"conapre\", \"conapre\", \"conapre\", \"conapre\", \"conapre\", \"conapre\", \"conapre\", \"conapre\", \"conapre\", \"condicione\", \"conmigo\", \"conocer\", \"construccion\", \"contagio\", \"continua\", \"continue\", \"control\", \"controlar\", \"coronavirus\", \"corte\", \"covid\", \"crear\", \"creative\", \"cree\", \"creen\", \"crisis\", \"cuale\", \"cualqui\", \"cualquier\", \"cuarentena\", \"cubreboca\", \"cubrebocas\", \"cuernavaca\", \"cuestion\", \"cuidarse\", \"cuidate\", \"cuidense\", \"culturale\", \"darle\", \"day\", \"debe\", \"deben\", \"debido\", \"decir\", \"decision\", \"deficit\", \"defuncion\", \"defuncione\", \"dema\", \"derechos\", \"desafio\", \"desea\", \"despue\", \"dia\", \"diagnostico\", \"diario\", \"dice\", \"diciendo\", \"diferente\", \"dimension\", \"dinero\", \"dio\", \"direccion\", \"disfrutar\", \"disponible\", \"doble\", \"doctor\", \"domicilio\", \"domo\", \"domo\", \"dosis\", \"drink\", \"economica\", \"edad\", \"edicion\", \"educacion\", \"eleccione\", \"electorale\", \"elemento\", \"ello\", \"emocione\", \"empieza\", \"empleado\", \"empleo\", \"empresario\", \"enfermedade\", \"enlace\", \"enorme\", \"entidade\", \"entonce\", \"epidemiologo\", \"errore\", \"esenciale\", \"espacio\", \"especial\", \"especie\", \"estandare\", \"estatal\", \"este\", \"estre\", \"estudiante\", \"estudio\", \"even\", \"evento\", \"existe\", \"facebooklive\", \"factor\", \"falta\", \"familiar\", \"familiare\", \"family\", \"fase\", \"favor\", \"feel\", \"felice\", \"felicidade\", \"feliz\", \"felizjueve\", \"felizlune\", \"felizmarte\", \"fin\", \"final\", \"fire\", \"floral\", \"flore\", \"flower\", \"food\", \"fortalecer\", \"foto\", \"fotografia\", \"fracaso\", \"frase\", \"friend\", \"fuente\", \"fuerte\", \"fundamental\", \"game\", \"garantizar\", \"generacion\", \"general\", \"get\", \"go\", \"gobcdmx\", \"gobernadore\", \"gobierno\", \"goboax\", \"gracia\", \"grave\", \"guante\", \"guarda\", \"haber\", \"habitante\", \"hable\", \"hace\", \"hacer\", \"haga\", \"happy\", \"hecho\", \"hermosillo\", \"hgo_irh\", \"hidalgo\", \"hizo\", \"hogare\", \"hombre\", \"home\", \"homeoffice\", \"hora\", \"horario\", \"horrible\", \"hospital\", \"hospitale\", \"hoy\", \"humor\", \"idea\", \"igual\", \"imagine\", \"importante\", \"imposible\", \"inbox\", \"incluso\", \"increible\", \"indetectable\", \"indiferente\", \"indispensable\", \"inevitable\", \"info\", \"inform\", \"informacion\", \"informate\", \"ingreso\", \"instalacione\", \"instaplant\", \"integrante\", \"inter\", \"interesa\", \"interese\", \"internet\", \"investigacion\", \"invisible\", \"irresponsable\", \"jueve\", \"just\", \"labor\", \"lamentable\", \"leer\", \"leve\", \"libre\", \"lidere\", \"life\", \"ligue\", \"limit\", \"link\", \"little\", \"live\", \"llegara\", \"llevo\", \"locale\", \"loco\", \"look\", \"lopezobrador\", \"love\", \"luce\", \"lugare\", \"lune\", \"madre\", \"make\", \"man\", \"manos\", \"marca\", \"marketing\", \"marte\", \"marzo\", \"mask\", \"material\", \"mayor\", \"mayore\", \"me\", \"medico\", \"medida\", \"medio\", \"mejor\", \"mejore\", \"meno\", \"menore\", \"menos\", \"mentale\", \"mese\", \"mexicano\", \"mexico\", \"michoacan\", \"miercole\", \"mile\", \"millone\", \"mira\", \"mira\", \"mira\", \"mira\", \"mira\", \"mira\", \"mira\", \"mira\", \"mira\", \"mira\", \"mira\", \"mira\", \"mira\", \"mira\", \"mira\", \"mira\", \"mira\", \"mira\", \"mira\", \"mira\", \"miserable\", \"mismo\", \"mitad\", \"mitigar\", \"mohammad\", \"mohammad\", \"mohammad\", \"mohammad\", \"mohammad\", \"mohammad\", \"mohammad\", \"mohammad\", \"mohammad\", \"mohammad\", \"mohammad\", \"mohammad\", \"mohammad\", \"mohammad\", \"mohammad\", \"mohammad\", \"mohammad\", \"mohammad\", \"mohammad\", \"mohammad\", \"moment\", \"momento\", \"monterrey\", \"more\", \"mucha\", \"muerte\", \"mujere\", \"mundial\", \"municipio\", \"music\", \"nacional\", \"natural\", \"naturaleza\", \"necesidade\", \"negocio\", \"new\", \"nio\", \"noche\", \"normal\", \"nuevo\", \"nuevos\", \"nunca\", \"obra\", \"obten\", \"ocasion\", \"octubre\", \"oficial\", \"oficina\", \"ofrecer\", \"olvide\", \"oms\", \"online\", \"only\", \"onmpri_hgo\", \"opcion\", \"opcione\", \"operacion\", \"opinion\", \"orchid\", \"ordena_recoge\", \"paciente\", \"pacientes_grave\", \"padre\", \"pais\", \"paise\", \"pandemia\", \"papa\", \"pare\", \"parece\", \"participacion\", \"particular\", \"pasar\", \"pase\", \"pasion\", \"pc\", \"pcdhidalgo_cie\", \"pedidos\", \"pedir\", \"pendiente\", \"pensar\", \"people\", \"peor\", \"peore\", \"perder\", \"perdi\", \"perdio\", \"permite\", \"persona\", \"personal\", \"pesar\", \"peso\", \"photooftheday\", \"pico\", \"picture\", \"pie\", \"piense\", \"pila\", \"pinche\", \"plan\", \"plane\", \"poblacion\", \"pobre\", \"podcast\", \"podemo\", \"poder\", \"ponen\", \"popular\", \"portadore\", \"posibilidade\", \"posible\", \"pre\", \"precaucion\", \"precedente\", \"precio\", \"prefiere\", \"preparando\", \"present\", \"presento\", \"pretexto\", \"prevencion\", \"pride\", \"primer\", \"primera\", \"primero\", \"principal\", \"prioridade\", \"privada\", \"probabilidad\", \"profesionale\", \"promedio\", \"promo\", \"promocione\", \"promover\", \"propagacion\", \"propone\", \"proteccion\", \"proteger\", \"publico\", \"pue\", \"puebla\", \"pueblo\", \"puede\", \"qro\", \"quarantine\", \"queda\", \"quedate\", \"quede\", \"querer\", \"quiere\", \"quizas\", \"reaccion\", \"real\", \"rebrote\", \"recomendacion\", \"recomendacione\", \"reconoce\", \"record\", \"rede\", \"reduce\", \"reducir\", \"reflexion\", \"region\", \"registrate\", \"regreso\", \"regular\", \"relax\", \"repartidore\", \"report\", \"residente\", \"responsable\", \"retiro\", \"reunione\", \"riesgo\", \"roo\", \"s\", \"sabe\", \"saber\", \"sala\", \"sale\", \"salir\", \"salud\", \"saludable\", \"sanitizacion\", \"say\", \"seale\", \"seccion\", \"secretario\", \"sector\", \"sectore\", \"see\", \"segun\", \"selfie\", \"semana\", \"sentirse\", \"seore\", \"ser\", \"sera\", \"seran\", \"servicio\", \"sesion\", \"shit\", \"short\", \"show\", \"si\", \"siempre\", \"siento\", \"sigo\", \"sigue\", \"siguiente\", \"sino\", \"sirve\", \"situacion\", \"situacione\", \"smile\", \"sntesalud\", \"so\", \"social\", \"sociale\", \"sociedad\", \"solo\", \"solucion\", \"solucione\", \"sospechosos\", \"spotify\", \"stay\", \"stayhome\", \"super\", \"superficie\", \"take\", \"tall\", \"tamaulipa\", \"tampoco\", \"tattoo\", \"tema\", \"tener\", \"tenia\", \"termina\", \"termina\", \"termina\", \"termine\", \"terrible\", \"thank\", \"tiempo\", \"time\", \"tip\", \"toca\", \"toda\", \"today\", \"top\", \"total\", \"tra\", \"trabajadore\", \"trabajo\", \"tramite\", \"transformacion\", \"transmision\", \"trata\", \"tratar\", \"trave\", \"travel\", \"tre\", \"triste\", \"twitter\", \"univdeporte\", \"universal\", \"urge\", \"use\", \"uste\", \"usted\", \"ustede\", \"usuario\", \"vacacione\", \"vario\", \"vece\", \"verdad\", \"video\", \"vierne\", \"viral\", \"virtual\", \"virus\", \"vision\", \"vive\", \"viviendo\", \"vivimo\", \"voy\", \"voz\", \"vulnerable\", \"whatsapp\", \"where\", \"why\", \"work\", \"yemeni\", \"yemeni\", \"yemeni\", \"yemeni\", \"yemeni\", \"yemeni\", \"yemeni\", \"yemeni\", \"yemeni\", \"yemeni\", \"yemeni\", \"yemeni\", \"yemeni\", \"yemeni\", \"yemeni\", \"yemeni\", \"yemeni\", \"yemeni\", \"yemeni\", \"yemeni\", \"youtube\"]}, \"R\": 30, \"lambda.step\": 0.01, \"plot.opts\": {\"xlab\": \"PC1\", \"ylab\": \"PC2\"}, \"topic.order\": [4, 14, 20, 18, 6, 16, 10, 3, 15, 13, 7, 8, 1, 17, 12, 5, 11, 2, 9, 19]};\n",
              "\n",
              "function LDAvis_load_lib(url, callback){\n",
              "  var s = document.createElement('script');\n",
              "  s.src = url;\n",
              "  s.async = true;\n",
              "  s.onreadystatechange = s.onload = callback;\n",
              "  s.onerror = function(){console.warn(\"failed to load library \" + url);};\n",
              "  document.getElementsByTagName(\"head\")[0].appendChild(s);\n",
              "}\n",
              "\n",
              "if(typeof(LDAvis) !== \"undefined\"){\n",
              "   // already loaded: just create the visualization\n",
              "   !function(LDAvis){\n",
              "       new LDAvis(\"#\" + \"ldavis_el1431400302470016886471109608\", ldavis_el1431400302470016886471109608_data);\n",
              "   }(LDAvis);\n",
              "}else if(typeof define === \"function\" && define.amd){\n",
              "   // require.js is available: use it to load d3/LDAvis\n",
              "   require.config({paths: {d3: \"https://cdnjs.cloudflare.com/ajax/libs/d3/3.5.5/d3.min\"}});\n",
              "   require([\"d3\"], function(d3){\n",
              "      window.d3 = d3;\n",
              "      LDAvis_load_lib(\"https://cdn.rawgit.com/bmabey/pyLDAvis/files/ldavis.v1.0.0.js\", function(){\n",
              "        new LDAvis(\"#\" + \"ldavis_el1431400302470016886471109608\", ldavis_el1431400302470016886471109608_data);\n",
              "      });\n",
              "    });\n",
              "}else{\n",
              "    // require.js not available: dynamically load d3 & LDAvis\n",
              "    LDAvis_load_lib(\"https://cdnjs.cloudflare.com/ajax/libs/d3/3.5.5/d3.min.js\", function(){\n",
              "         LDAvis_load_lib(\"https://cdn.rawgit.com/bmabey/pyLDAvis/files/ldavis.v1.0.0.js\", function(){\n",
              "                 new LDAvis(\"#\" + \"ldavis_el1431400302470016886471109608\", ldavis_el1431400302470016886471109608_data);\n",
              "            })\n",
              "         });\n",
              "}\n",
              "</script>"
            ],
            "text/plain": [
              "PreparedData(topic_coordinates=              x         y  topics  cluster       Freq\n",
              "topic                                                \n",
              "3     -0.355627 -0.152061       1        1  11.811444\n",
              "13    -0.149125  0.335614       2        1   6.813145\n",
              "19    -0.054428 -0.019062       3        1   6.467087\n",
              "17     0.000468 -0.026234       4        1   5.235538\n",
              "5      0.062579 -0.021912       5        1   5.138415\n",
              "15     0.007701 -0.013710       6        1   4.998417\n",
              "9      0.017821  0.001873       7        1   4.955628\n",
              "2      0.009377 -0.007142       8        1   4.837542\n",
              "14     0.023727 -0.004979       9        1   4.712368\n",
              "12     0.032598 -0.007938      10        1   4.697061\n",
              "6      0.024837 -0.003909      11        1   4.575537\n",
              "7      0.033858 -0.014055      12        1   4.524293\n",
              "0      0.050478 -0.008315      13        1   4.258452\n",
              "16     0.037567 -0.017045      14        1   4.216990\n",
              "11     0.030733 -0.008815      15        1   4.170897\n",
              "4      0.028850 -0.008353      16        1   4.122313\n",
              "10     0.031379 -0.012284      17        1   4.016157\n",
              "1      0.047125 -0.004274      18        1   3.967788\n",
              "8      0.055239 -0.004693      19        1   3.610157\n",
              "18     0.064844 -0.002708      20        1   2.870769, topic_info=             Term         Freq        Total Category  logprob  loglift\n",
              "9           virus  8735.000000  8735.000000  Default  30.0000  30.0000\n",
              "80         crisis  4533.000000  4533.000000  Default  29.0000  29.0000\n",
              "37            pue  3347.000000  3347.000000  Default  28.0000  28.0000\n",
              "392      pandemia  2627.000000  2627.000000  Default  27.0000  27.0000\n",
              "108         puede  2136.000000  2136.000000  Default  26.0000  26.0000\n",
              "...           ...          ...          ...      ...      ...      ...\n",
              "8136     cuidense    59.896587    60.682961  Topic20  -5.0227   3.5375\n",
              "1545  univdeporte    56.739468    57.525841  Topic20  -5.0768   3.5368\n",
              "7180         fire    54.864265    55.650669  Topic20  -5.1104   3.5364\n",
              "3044      incluso    53.553513    54.339886  Topic20  -5.1346   3.5360\n",
              "5065   secretario    53.341694    54.128067  Topic20  -5.1386   3.5360\n",
              "\n",
              "[641 rows x 6 columns], token_table=       Topic      Freq            Term\n",
              "term                                  \n",
              "127        3  0.996590           abran\n",
              "86        18  0.994260          acaban\n",
              "1935      19  0.993237           acabo\n",
              "264       12  0.996872         accione\n",
              "4727      18  0.988002  accionnacional\n",
              "...      ...       ...             ...\n",
              "37637     17  0.168179          yemeni\n",
              "37637     18  0.034359          yemeni\n",
              "37637     19  0.028030          yemeni\n",
              "37637     20  0.013563          yemeni\n",
              "2079      15  0.995013         youtube\n",
              "\n",
              "[694 rows x 3 columns], R=30, lambda_step=0.01, plot_opts={'xlab': 'PC1', 'ylab': 'PC2'}, topic_order=[4, 14, 20, 18, 6, 16, 10, 3, 15, 13, 7, 8, 1, 17, 12, 5, 11, 2, 9, 19])"
            ]
          },
          "metadata": {
            "tags": []
          },
          "execution_count": 28
        }
      ]
    },
    {
      "cell_type": "code",
      "metadata": {
        "id": "jaCoXIv8RO95"
      },
      "source": [
        ""
      ],
      "execution_count": null,
      "outputs": []
    },
    {
      "cell_type": "code",
      "metadata": {
        "id": "Xtas0aA-t-tM",
        "colab": {
          "base_uri": "https://localhost:8080/",
          "height": 363
        },
        "outputId": "98b100fb-037b-4a3d-8b9a-9c0e97e2f7b9"
      },
      "source": [
        "def format_topics_sentences(ldamodel=None, corpus=corpus, texts=data):\n",
        "    # Init output\n",
        "    sent_topics_df = pd.DataFrame()\n",
        "\n",
        "    # Get main topic in each document\n",
        "    for i, row_list in enumerate(ldamodel[corpus]):\n",
        "        row = row_list[0] if ldamodel.per_word_topics else row_list            \n",
        "        # print(row)\n",
        "        row = sorted(row, key=lambda x: (x[1]), reverse=True)\n",
        "        # Get the Dominant topic, Perc Contribution and Keywords for each document\n",
        "        for j, (topic_num, prop_topic) in enumerate(row):\n",
        "            if j == 0:  # => dominant topic\n",
        "                wp = ldamodel.show_topic(topic_num)\n",
        "                topic_keywords = \", \".join([word for word, prop in wp])\n",
        "                sent_topics_df = sent_topics_df.append(pd.Series([int(topic_num), round(prop_topic,4), topic_keywords]), ignore_index=True)\n",
        "            else:\n",
        "                break\n",
        "    sent_topics_df.columns = ['Dominant_Topic', 'Perc_Contribution', 'Topic_Keywords']\n",
        "\n",
        "    # Add original text to the end of the output\n",
        "    contents = pd.Series(texts)\n",
        "    sent_topics_df = pd.concat([sent_topics_df, contents], axis=1)\n",
        "    return(sent_topics_df)\n",
        "\n",
        "\n",
        "df_topic_sents_keywords = format_topics_sentences(ldamodel=lda_model, corpus=corpus, texts=data_words_nostops)\n",
        "\n",
        "# Format\n",
        "df_dominant_topic = df_topic_sents_keywords.reset_index()\n",
        "df_dominant_topic.columns = ['Document_No', 'Dominant_Topic', 'Topic_Perc_Contrib', 'Keywords', 'Text']\n",
        "df_dominant_topic.head(10)"
      ],
      "execution_count": null,
      "outputs": [
        {
          "output_type": "execute_result",
          "data": {
            "text/html": [
              "<div>\n",
              "<style scoped>\n",
              "    .dataframe tbody tr th:only-of-type {\n",
              "        vertical-align: middle;\n",
              "    }\n",
              "\n",
              "    .dataframe tbody tr th {\n",
              "        vertical-align: top;\n",
              "    }\n",
              "\n",
              "    .dataframe thead th {\n",
              "        text-align: right;\n",
              "    }\n",
              "</style>\n",
              "<table border=\"1\" class=\"dataframe\">\n",
              "  <thead>\n",
              "    <tr style=\"text-align: right;\">\n",
              "      <th></th>\n",
              "      <th>Document_No</th>\n",
              "      <th>Dominant_Topic</th>\n",
              "      <th>Topic_Perc_Contrib</th>\n",
              "      <th>Keywords</th>\n",
              "      <th>Text</th>\n",
              "    </tr>\n",
              "  </thead>\n",
              "  <tbody>\n",
              "    <tr>\n",
              "      <th>0</th>\n",
              "      <td>0</td>\n",
              "      <td>3.0</td>\n",
              "      <td>0.1204</td>\n",
              "      <td>despue, poder, covid, pobre, nuevo, responsabl...</td>\n",
              "      <td>[arkitektoplus, eljulesolivar, tardando, hacer...</td>\n",
              "    </tr>\n",
              "    <tr>\n",
              "      <th>1</th>\n",
              "      <td>1</td>\n",
              "      <td>3.0</td>\n",
              "      <td>0.1204</td>\n",
              "      <td>despue, poder, covid, pobre, nuevo, responsabl...</td>\n",
              "      <td>[cuarentena, solo, soando, pura, pendejadas]</td>\n",
              "    </tr>\n",
              "    <tr>\n",
              "      <th>2</th>\n",
              "      <td>2</td>\n",
              "      <td>3.0</td>\n",
              "      <td>0.1151</td>\n",
              "      <td>despue, poder, covid, pobre, nuevo, responsabl...</td>\n",
              "      <td>[espinozaoficial, haces, video, vivo, esten, c...</td>\n",
              "    </tr>\n",
              "    <tr>\n",
              "      <th>3</th>\n",
              "      <td>3</td>\n",
              "      <td>3.0</td>\n",
              "      <td>0.1204</td>\n",
              "      <td>despue, poder, covid, pobre, nuevo, responsabl...</td>\n",
              "      <td>[plena, crisis, pandemia, sigue, presente, luc...</td>\n",
              "    </tr>\n",
              "    <tr>\n",
              "      <th>4</th>\n",
              "      <td>4</td>\n",
              "      <td>3.0</td>\n",
              "      <td>0.1204</td>\n",
              "      <td>despue, poder, covid, pobre, nuevo, responsabl...</td>\n",
              "      <td>[natrey, correcto, quedateencasa]</td>\n",
              "    </tr>\n",
              "    <tr>\n",
              "      <th>5</th>\n",
              "      <td>5</td>\n",
              "      <td>3.0</td>\n",
              "      <td>0.1015</td>\n",
              "      <td>despue, poder, covid, pobre, nuevo, responsabl...</td>\n",
              "      <td>[creating, the, best, moments, reservations, m...</td>\n",
              "    </tr>\n",
              "    <tr>\n",
              "      <th>6</th>\n",
              "      <td>6</td>\n",
              "      <td>3.0</td>\n",
              "      <td>0.1168</td>\n",
              "      <td>despue, poder, covid, pobre, nuevo, responsabl...</td>\n",
              "      <td>[cecevich, virus, detuvo, economia]</td>\n",
              "    </tr>\n",
              "    <tr>\n",
              "      <th>7</th>\n",
              "      <td>7</td>\n",
              "      <td>3.0</td>\n",
              "      <td>0.1152</td>\n",
              "      <td>despue, poder, covid, pobre, nuevo, responsabl...</td>\n",
              "      <td>[elizabe, donistorres, elmajeporteno, luisguti...</td>\n",
              "    </tr>\n",
              "    <tr>\n",
              "      <th>8</th>\n",
              "      <td>8</td>\n",
              "      <td>3.0</td>\n",
              "      <td>0.1187</td>\n",
              "      <td>despue, poder, covid, pobre, nuevo, responsabl...</td>\n",
              "      <td>[cupon, balido, unas, chelas, pase, valido, da...</td>\n",
              "    </tr>\n",
              "    <tr>\n",
              "      <th>9</th>\n",
              "      <td>9</td>\n",
              "      <td>3.0</td>\n",
              "      <td>0.1204</td>\n",
              "      <td>despue, poder, covid, pobre, nuevo, responsabl...</td>\n",
              "      <td>[ferka, ps, saldremos, mas, kilos, pandemia]</td>\n",
              "    </tr>\n",
              "  </tbody>\n",
              "</table>\n",
              "</div>"
            ],
            "text/plain": [
              "   Document_No  ...                                               Text\n",
              "0            0  ...  [arkitektoplus, eljulesolivar, tardando, hacer...\n",
              "1            1  ...       [cuarentena, solo, soando, pura, pendejadas]\n",
              "2            2  ...  [espinozaoficial, haces, video, vivo, esten, c...\n",
              "3            3  ...  [plena, crisis, pandemia, sigue, presente, luc...\n",
              "4            4  ...                  [natrey, correcto, quedateencasa]\n",
              "5            5  ...  [creating, the, best, moments, reservations, m...\n",
              "6            6  ...                [cecevich, virus, detuvo, economia]\n",
              "7            7  ...  [elizabe, donistorres, elmajeporteno, luisguti...\n",
              "8            8  ...  [cupon, balido, unas, chelas, pase, valido, da...\n",
              "9            9  ...       [ferka, ps, saldremos, mas, kilos, pandemia]\n",
              "\n",
              "[10 rows x 5 columns]"
            ]
          },
          "metadata": {
            "tags": []
          },
          "execution_count": 46
        }
      ]
    },
    {
      "cell_type": "markdown",
      "metadata": {
        "id": "kbpf4sPsYPAS"
      },
      "source": [
        "X = vect.fit_transform(doc_clean)\n",
        "corpus = gensim.matutils.Sparse2Corpus(X, documents_columns=False)\n",
        "id_map = dict((v, k) for k, v in vect.vocabulary_.items())\n",
        "ldamodel = gensim.models.ldamodel.LdaModel (corpus, num_topics=10, id2word=id_map, passes=25, random_state=34)\n"
      ]
    },
    {
      "cell_type": "code",
      "metadata": {
        "id": "MWJIoK9pdoq1",
        "colab": {
          "base_uri": "https://localhost:8080/",
          "height": 966
        },
        "outputId": "b1485d05-0b7f-419b-88e6-79eb787ec40c"
      },
      "source": [
        "doc_lens = [len(d) for d in df_dominant_topic.Text]\n",
        "\n",
        "# Plot\n",
        "plt.figure(figsize=(24,16))\n",
        "plt.hist(doc_lens, bins = 50, color='navy')\n",
        "plt.text(45, 25000, \"Mean   : \" + str(round(np.mean(doc_lens))))\n",
        "plt.text(45, 24000, \"Median : \" + str(round(np.median(doc_lens))))\n",
        "plt.text(45, 23000, \"Stdev   : \" + str(round(np.std(doc_lens))))\n",
        "plt.text(45, 22000, \"1%ile    : \" + str(round(np.quantile(doc_lens, q=0.01))))\n",
        "plt.text(45, 21000, \"99%ile  : \" + str(round(np.quantile(doc_lens, q=0.99))))\n",
        "\n",
        "plt.gca().set(xlim=(0, 50), ylabel='Number of Tweets', xlabel='Tweet Word Count')\n",
        "plt.tick_params(size=16)\n",
        "plt.title('Distribution of Tweets Word Counts', fontdict=dict(size=22))\n",
        "plt.show()"
      ],
      "execution_count": null,
      "outputs": [
        {
          "output_type": "display_data",
          "data": {
            "image/png": "[encoded data removed]",
            "text/plain": [
              "<Figure size 1728x1152 with 1 Axes>"
            ]
          },
          "metadata": {
            "tags": [],
            "needs_background": "light"
          }
        }
      ]
    },
    {
      "cell_type": "code",
      "metadata": {
        "id": "4X2XiY73ZlJg"
      },
      "source": [
        ""
      ],
      "execution_count": null,
      "outputs": []
    }
  ]
}